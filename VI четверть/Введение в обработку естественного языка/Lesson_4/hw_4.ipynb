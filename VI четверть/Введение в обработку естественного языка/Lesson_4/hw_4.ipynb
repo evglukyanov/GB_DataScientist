{
 "cells": [
  {
   "cell_type": "markdown",
   "id": "8c81fa7f",
   "metadata": {
    "id": "8c81fa7f"
   },
   "source": [
    "Урок 4. Тематическое моделирование. EM-алгоритм\n",
    "Задача тематическое моделирование\n",
    "\n",
    "продолжаем исследование датасета с твитами\n",
    "\n",
    "Скачиваем датасет (источник): положительные, отрицательные.\n",
    "\n",
    "рабочие ссылки с твитами\n",
    "https://disk.yandex.ru/i/v5HM-ENiGXZVpQ\n",
    "https://disk.yandex.ru/i/koR5eMCToCZS2Q\n",
    "\n",
    "как альтернатива можно скачать данные из Роспотребнадзора\n",
    "https://zpp.rospotrebnadzor.ru/Forum/Appeals\n",
    "для этого берём ноутбук parse_rospotrebnadzor.ipynb\n",
    "устанавливаем количество скачанных страниц больше не 50-сят хотябы 500 и для анализа берём только вопросы так как ответы есть не всегда\n",
    "\n",
    "что надо сделать\n",
    "1. объединить в одну выборку (это только для твитов), для роспотребнадзора сформировать датасет из вопросов\n",
    "2. провести исследование и выявить тематики о которых говорят в твитах (для твитов), а для роспотребнадзора так же выявить тематики о которых люди пишут проанализировать\n",
    "3. сделать визуализацию кластеров тематик\n",
    "4. проинтерпритировать получившиеся тематики"
   ]
  },
  {
   "cell_type": "code",
   "execution_count": 2,
   "id": "fWuhFOpmZc6s",
   "metadata": {
    "colab": {
     "base_uri": "https://localhost:8080/"
    },
    "executionInfo": {
     "elapsed": 13008,
     "status": "ok",
     "timestamp": 1674327918407,
     "user": {
      "displayName": "Maxim Gasilin",
      "userId": "15501735730920561422"
     },
     "user_tz": -180
    },
    "id": "fWuhFOpmZc6s",
    "outputId": "80449be5-18ed-40eb-d8ea-3fd519d0dbef"
   },
   "outputs": [
    {
     "name": "stdout",
     "output_type": "stream",
     "text": [
      "Requirement already satisfied: pymorphy2 in /Users/evgeniilukyanov/opt/anaconda3/lib/python3.9/site-packages (0.9.1)\r\n",
      "Requirement already satisfied: pymorphy2-dicts-ru<3.0,>=2.4 in /Users/evgeniilukyanov/opt/anaconda3/lib/python3.9/site-packages (from pymorphy2) (2.4.417127.4579844)\r\n",
      "Requirement already satisfied: docopt>=0.6 in /Users/evgeniilukyanov/opt/anaconda3/lib/python3.9/site-packages (from pymorphy2) (0.6.2)\r\n",
      "Requirement already satisfied: dawg-python>=0.7.1 in /Users/evgeniilukyanov/opt/anaconda3/lib/python3.9/site-packages (from pymorphy2) (0.7.2)\r\n"
     ]
    }
   ],
   "source": [
    "!pip install pymorphy2"
   ]
  },
  {
   "cell_type": "code",
   "execution_count": 3,
   "id": "sL1ej1PIcBwG",
   "metadata": {
    "colab": {
     "base_uri": "https://localhost:8080/"
    },
    "executionInfo": {
     "elapsed": 9910,
     "status": "ok",
     "timestamp": 1674327933278,
     "user": {
      "displayName": "Maxim Gasilin",
      "userId": "15501735730920561422"
     },
     "user_tz": -180
    },
    "id": "sL1ej1PIcBwG",
    "outputId": "cedbb919-3989-4c70-9c2f-2efe46305f7a"
   },
   "outputs": [
    {
     "name": "stdout",
     "output_type": "stream",
     "text": [
      "Requirement already satisfied: stop_words in /Users/evgeniilukyanov/opt/anaconda3/lib/python3.9/site-packages (2018.7.23)\r\n"
     ]
    }
   ],
   "source": [
    "!pip install stop_words"
   ]
  },
  {
   "cell_type": "code",
   "execution_count": 4,
   "id": "aDeCHaKDXxYs",
   "metadata": {
    "executionInfo": {
     "elapsed": 2549,
     "status": "ok",
     "timestamp": 1674327935822,
     "user": {
      "displayName": "Maxim Gasilin",
      "userId": "15501735730920561422"
     },
     "user_tz": -180
    },
    "id": "aDeCHaKDXxYs"
   },
   "outputs": [],
   "source": [
    "import pandas as pd\n",
    "import numpy as np\n",
    "\n",
    "import re\n",
    "\n",
    "from pymorphy2 import MorphAnalyzer\n",
    "from stop_words import get_stop_words\n",
    "\n",
    "from gensim import corpora\n",
    "from gensim.models import *"
   ]
  },
  {
   "cell_type": "code",
   "execution_count": 5,
   "id": "S5pj6VHQWVhr",
   "metadata": {
    "executionInfo": {
     "elapsed": 5,
     "status": "ok",
     "timestamp": 1674327935823,
     "user": {
      "displayName": "Maxim Gasilin",
      "userId": "15501735730920561422"
     },
     "user_tz": -180
    },
    "id": "S5pj6VHQWVhr"
   },
   "outputs": [],
   "source": [
    "morpher = MorphAnalyzer()"
   ]
  },
  {
   "cell_type": "code",
   "execution_count": 6,
   "id": "pu8PoUYxB4y0",
   "metadata": {
    "executionInfo": {
     "elapsed": 1,
     "status": "ok",
     "timestamp": 1674327936299,
     "user": {
      "displayName": "Maxim Gasilin",
      "userId": "15501735730920561422"
     },
     "user_tz": -180
    },
    "id": "pu8PoUYxB4y0"
   },
   "outputs": [],
   "source": [
    "stopwords_list = set(get_stop_words(\"ru\"))"
   ]
  },
  {
   "cell_type": "code",
   "execution_count": 7,
   "id": "e1cb572f",
   "metadata": {
    "executionInfo": {
     "elapsed": 1370,
     "status": "ok",
     "timestamp": 1674328096813,
     "user": {
      "displayName": "Maxim Gasilin",
      "userId": "15501735730920561422"
     },
     "user_tz": -180
    },
    "id": "e1cb572f"
   },
   "outputs": [],
   "source": [
    "positive = pd.read_csv('positive.csv', sep = ';', usecols = [3], names = ['text'])\n",
    "positive['label'] = ['positive'] * len(positive)\n",
    "\n",
    "negative = pd.read_csv('negative.csv', sep = ';', usecols = [3], names = ['text'])\n",
    "negative['label'] = ['negative'] * len(negative)"
   ]
  },
  {
   "cell_type": "code",
   "execution_count": 8,
   "id": "5cec6339",
   "metadata": {
    "colab": {
     "base_uri": "https://localhost:8080/",
     "height": 206
    },
    "executionInfo": {
     "elapsed": 10,
     "status": "ok",
     "timestamp": 1674328097915,
     "user": {
      "displayName": "Maxim Gasilin",
      "userId": "15501735730920561422"
     },
     "user_tz": -180
    },
    "id": "5cec6339",
    "outputId": "b3ce58b8-8990-4019-bc24-a87c0f174a66"
   },
   "outputs": [
    {
     "data": {
      "text/html": [
       "<div>\n",
       "<style scoped>\n",
       "    .dataframe tbody tr th:only-of-type {\n",
       "        vertical-align: middle;\n",
       "    }\n",
       "\n",
       "    .dataframe tbody tr th {\n",
       "        vertical-align: top;\n",
       "    }\n",
       "\n",
       "    .dataframe thead th {\n",
       "        text-align: right;\n",
       "    }\n",
       "</style>\n",
       "<table border=\"1\" class=\"dataframe\">\n",
       "  <thead>\n",
       "    <tr style=\"text-align: right;\">\n",
       "      <th></th>\n",
       "      <th>text</th>\n",
       "      <th>label</th>\n",
       "    </tr>\n",
       "  </thead>\n",
       "  <tbody>\n",
       "    <tr>\n",
       "      <th>0</th>\n",
       "      <td>@first_timee хоть я и школота, но поверь, у на...</td>\n",
       "      <td>positive</td>\n",
       "    </tr>\n",
       "    <tr>\n",
       "      <th>1</th>\n",
       "      <td>Да, все-таки он немного похож на него. Но мой ...</td>\n",
       "      <td>positive</td>\n",
       "    </tr>\n",
       "    <tr>\n",
       "      <th>2</th>\n",
       "      <td>RT @KatiaCheh: Ну ты идиотка) я испугалась за ...</td>\n",
       "      <td>positive</td>\n",
       "    </tr>\n",
       "    <tr>\n",
       "      <th>3</th>\n",
       "      <td>RT @digger2912: \"Кто то в углу сидит и погибае...</td>\n",
       "      <td>positive</td>\n",
       "    </tr>\n",
       "    <tr>\n",
       "      <th>4</th>\n",
       "      <td>@irina_dyshkant Вот что значит страшилка :D\\nН...</td>\n",
       "      <td>positive</td>\n",
       "    </tr>\n",
       "  </tbody>\n",
       "</table>\n",
       "</div>"
      ],
      "text/plain": [
       "                                                text     label\n",
       "0  @first_timee хоть я и школота, но поверь, у на...  positive\n",
       "1  Да, все-таки он немного похож на него. Но мой ...  positive\n",
       "2  RT @KatiaCheh: Ну ты идиотка) я испугалась за ...  positive\n",
       "3  RT @digger2912: \"Кто то в углу сидит и погибае...  positive\n",
       "4  @irina_dyshkant Вот что значит страшилка :D\\nН...  positive"
      ]
     },
     "execution_count": 8,
     "metadata": {},
     "output_type": "execute_result"
    }
   ],
   "source": [
    "df = pd.concat([positive, negative], ignore_index = True)\n",
    "df.head()"
   ]
  },
  {
   "cell_type": "code",
   "execution_count": 9,
   "id": "201f7ca3",
   "metadata": {
    "colab": {
     "base_uri": "https://localhost:8080/"
    },
    "executionInfo": {
     "elapsed": 5,
     "status": "ok",
     "timestamp": 1674328099813,
     "user": {
      "displayName": "Maxim Gasilin",
      "userId": "15501735730920561422"
     },
     "user_tz": -180
    },
    "id": "201f7ca3",
    "outputId": "75f068b2-2dec-45fd-9771-8fb34d6d58e8"
   },
   "outputs": [
    {
     "name": "stdout",
     "output_type": "stream",
     "text": [
      "<class 'pandas.core.frame.DataFrame'>\n",
      "RangeIndex: 226834 entries, 0 to 226833\n",
      "Data columns (total 2 columns):\n",
      " #   Column  Non-Null Count   Dtype \n",
      "---  ------  --------------   ----- \n",
      " 0   text    226834 non-null  object\n",
      " 1   label   226834 non-null  object\n",
      "dtypes: object(2)\n",
      "memory usage: 3.5+ MB\n"
     ]
    }
   ],
   "source": [
    "df.info()"
   ]
  },
  {
   "cell_type": "code",
   "execution_count": 10,
   "id": "CvF9V6n2VKmM",
   "metadata": {
    "executionInfo": {
     "elapsed": 4,
     "status": "ok",
     "timestamp": 1674328101909,
     "user": {
      "displayName": "Maxim Gasilin",
      "userId": "15501735730920561422"
     },
     "user_tz": -180
    },
    "id": "CvF9V6n2VKmM"
   },
   "outputs": [],
   "source": [
    "words_regex = re.compile(r'\\w+')\n",
    "\n",
    "# Формирование токенов длиной более 3 букв\n",
    "def find_words(text, regex = words_regex):\n",
    "    tokens = regex.findall(text) \n",
    "    return [w for w in tokens if w.isalpha() and len(w)>= 4] \n"
   ]
  },
  {
   "cell_type": "code",
   "execution_count": 11,
   "id": "8c3d54a9",
   "metadata": {
    "executionInfo": {
     "elapsed": 3,
     "status": "ok",
     "timestamp": 1674328102519,
     "user": {
      "displayName": "Maxim Gasilin",
      "userId": "15501735730920561422"
     },
     "user_tz": -180
    },
    "id": "8c3d54a9"
   },
   "outputs": [],
   "source": [
    "# Удаляем стоп слова и другие символы, не являющимися буквами\n",
    "def lemmatize(words, lemmer = morpher, stopwords = stopwords_list):\n",
    "    lemmas = [lemmer.parse(w)[0].normal_form for w in words] \n",
    "    return [w for w in lemmas if not w in stopwords and w.isalpha()] \n",
    "\n",
    "#Чистим от нецензурных слов и слов, не несущих особой смысловой нагрузки\n",
    "def clear_tokens(tokens):\n",
    "    string_tokens = ' '.join(tokens)\n",
    "    string_tokens = re.sub(r'[A-za-z]', ' ',  string_tokens) \n",
    "    string_tokens = re.sub(r'\\w+ще\\b', ' ',  string_tokens) \n",
    "    string_tokens = re.sub(r'\\bбл\\w+', ' ',  string_tokens) \n",
    "    string_tokens = re.sub(r'значит', ' ',  string_tokens) \n",
    "    string_tokens = re.sub(r'почему', ' ',  string_tokens) \n",
    "    string_tokens = re.sub(r'свой', ' ',  string_tokens) \n",
    "    string_tokens = re.sub(r'капец', ' ',  string_tokens) \n",
    "    string_tokens = re.sub(r'который', ' ',  string_tokens)\n",
    "    string_tokens = re.sub(r'это', ' ',  string_tokens)\n",
    "    string_tokens = re.sub(r'весь', ' ',  string_tokens)\n",
    "    string_tokens = re.sub(r'\\bидио\\w+', ' ',  string_tokens) \n",
    "    string_tokens = re.sub(r'\\bпид\\w+', ' ',  string_tokens)\n",
    "    string_tokens = re.sub(r'\\bхуй\\w+', ' ', string_tokens)\n",
    "    string_tokens = re.sub(r'\\w+xу.\\b', ' ',  string_tokens)\n",
    "    string_tokens = re.sub(r'\\w+xу\\w+', ' ',  string_tokens)\n",
    "    string_tokens = re.sub(r'\\w+но\\b', ' ',  string_tokens)\n",
    "    string_tokens = re.sub(r'\\bпоп\\w+', ' ',  string_tokens)\n",
    "    string_tokens = re.sub(r'\\bпиз\\w+', ' ',  string_tokens)\n",
    "    string_tokens = re.sub(r'\\bгов\\w+', ' ',  string_tokens)\n",
    "    string_tokens = re.sub(r'\\bфиг\\w+', ' ',  string_tokens)\n",
    "    string_tokens = re.sub(r'сука', ' ',  string_tokens)\n",
    "    string_tokens = re.sub(r'очень', ' ',  string_tokens)\n",
    "    string_tokens = re.sub(r'лох', ' ',  string_tokens)\n",
    "    string_tokens = re.sub(r'\\bпи.де\\w+', ' ',  string_tokens)\n",
    "    string_tokens = re.sub(r'нету', ' ',  string_tokens)\n",
    "    string_tokens = re.sub(r'ой', ' ',  string_tokens)\n",
    "    string_tokens = re.sub(r'\\bхот\\w+', ' ',  string_tokens)\n",
    "    string_tokens = re.sub(r'\\bпрост\\w+', ' ',  string_tokens)\n",
    "    string_tokens = re.sub(r'\\bника\\w+', ' ',  string_tokens)\n",
    "    string_tokens = re.sub(r'\\w+ть\\b', ' ',  string_tokens)\n",
    "    string_tokens = re.sub(r'мочь', ' ',  string_tokens)\n",
    "    clear_tokens = string_tokens.split()\n",
    "    clear_tokens = [w for w in clear_tokens if len(w)>2]\n",
    "    return clear_tokens\n",
    "\n",
    "def preprocess(text):\n",
    "    return (clear_tokens(lemmatize(find_words(text))))"
   ]
  },
  {
   "cell_type": "code",
   "execution_count": 12,
   "id": "ab126c85",
   "metadata": {
    "colab": {
     "base_uri": "https://localhost:8080/",
     "height": 206
    },
    "executionInfo": {
     "elapsed": 305147,
     "status": "ok",
     "timestamp": 1674328415970,
     "user": {
      "displayName": "Maxim Gasilin",
      "userId": "15501735730920561422"
     },
     "user_tz": -180
    },
    "id": "ab126c85",
    "outputId": "7f6f7fde-a8d6-49f7-ddbf-c9d6789ec913"
   },
   "outputs": [
    {
     "data": {
      "text/html": [
       "<div>\n",
       "<style scoped>\n",
       "    .dataframe tbody tr th:only-of-type {\n",
       "        vertical-align: middle;\n",
       "    }\n",
       "\n",
       "    .dataframe tbody tr th {\n",
       "        vertical-align: top;\n",
       "    }\n",
       "\n",
       "    .dataframe thead th {\n",
       "        text-align: right;\n",
       "    }\n",
       "</style>\n",
       "<table border=\"1\" class=\"dataframe\">\n",
       "  <thead>\n",
       "    <tr style=\"text-align: right;\">\n",
       "      <th></th>\n",
       "      <th>text</th>\n",
       "      <th>label</th>\n",
       "    </tr>\n",
       "  </thead>\n",
       "  <tbody>\n",
       "    <tr>\n",
       "      <th>0</th>\n",
       "      <td>[школотый, поверь, самый, общество, предмет, тип]</td>\n",
       "      <td>positive</td>\n",
       "    </tr>\n",
       "    <tr>\n",
       "      <th>1</th>\n",
       "      <td>[таки, похожий, мальчик, хороший]</td>\n",
       "      <td>positive</td>\n",
       "    </tr>\n",
       "    <tr>\n",
       "      <th>2</th>\n",
       "      <td>[испугаться]</td>\n",
       "      <td>positive</td>\n",
       "    </tr>\n",
       "    <tr>\n",
       "      <th>3</th>\n",
       "      <td>[угол, голод, порция]</td>\n",
       "      <td>positive</td>\n",
       "    </tr>\n",
       "    <tr>\n",
       "      <th>4</th>\n",
       "      <td>[страшилка, создаться, ощущение, автор]</td>\n",
       "      <td>positive</td>\n",
       "    </tr>\n",
       "  </tbody>\n",
       "</table>\n",
       "</div>"
      ],
      "text/plain": [
       "                                                text     label\n",
       "0  [школотый, поверь, самый, общество, предмет, тип]  positive\n",
       "1                  [таки, похожий, мальчик, хороший]  positive\n",
       "2                                       [испугаться]  positive\n",
       "3                              [угол, голод, порция]  positive\n",
       "4            [страшилка, создаться, ощущение, автор]  positive"
      ]
     },
     "execution_count": 12,
     "metadata": {},
     "output_type": "execute_result"
    }
   ],
   "source": [
    "df['text'] = df['text'].apply(preprocess)\n",
    "df.head()"
   ]
  },
  {
   "cell_type": "code",
   "execution_count": 13,
   "id": "eec49eb1",
   "metadata": {
    "executionInfo": {
     "elapsed": 1911,
     "status": "ok",
     "timestamp": 1674328421944,
     "user": {
      "displayName": "Maxim Gasilin",
      "userId": "15501735730920561422"
     },
     "user_tz": -180
    },
    "id": "eec49eb1"
   },
   "outputs": [],
   "source": [
    "# Словарь уникальных токенов\n",
    "dictionary = corpora.Dictionary(df['text'])"
   ]
  },
  {
   "cell_type": "code",
   "execution_count": 14,
   "id": "b96f9b56",
   "metadata": {
    "colab": {
     "base_uri": "https://localhost:8080/"
    },
    "executionInfo": {
     "elapsed": 8,
     "status": "ok",
     "timestamp": 1674328421945,
     "user": {
      "displayName": "Maxim Gasilin",
      "userId": "15501735730920561422"
     },
     "user_tz": -180
    },
    "id": "b96f9b56",
    "outputId": "1d9ae2ed-8dbc-4016-87b5-3e8a0e5168e7"
   },
   "outputs": [
    {
     "data": {
      "text/plain": [
       "8100"
      ]
     },
     "execution_count": 14,
     "metadata": {},
     "output_type": "execute_result"
    }
   ],
   "source": [
    "# Выкидывание редких слов\n",
    "dictionary.filter_extremes(no_below = 10, no_above = 0.9, keep_n=None)\n",
    "dictionary.save('tweet.dict')\n",
    "len(dictionary.keys())"
   ]
  },
  {
   "cell_type": "code",
   "execution_count": 15,
   "id": "19a37a4d",
   "metadata": {
    "executionInfo": {
     "elapsed": 2992,
     "status": "ok",
     "timestamp": 1674328425308,
     "user": {
      "displayName": "Maxim Gasilin",
      "userId": "15501735730920561422"
     },
     "user_tz": -180
    },
    "id": "19a37a4d"
   },
   "outputs": [],
   "source": [
    "# Векторизация твитов\n",
    "corpus = [dictionary.doc2bow(text) for text in df['text']]\n",
    "corpora.MmCorpus.serialize('tweet.model', corpus)"
   ]
  },
  {
   "cell_type": "code",
   "execution_count": 16,
   "id": "4bd411d5",
   "metadata": {
    "colab": {
     "base_uri": "https://localhost:8080/"
    },
    "executionInfo": {
     "elapsed": 9,
     "status": "ok",
     "timestamp": 1674328425309,
     "user": {
      "displayName": "Maxim Gasilin",
      "userId": "15501735730920561422"
     },
     "user_tz": -180
    },
    "id": "4bd411d5",
    "outputId": "d383c00f-7104-4488-eac1-0d2956234ac9"
   },
   "outputs": [
    {
     "name": "stdout",
     "output_type": "stream",
     "text": [
      "['школотый', 'поверь', 'самый', 'общество', 'предмет', 'тип']\n",
      "[(0, 1.0), (1, 1.0), (2, 1.0), (3, 1.0), (4, 1.0), (5, 1.0)]\n"
     ]
    }
   ],
   "source": [
    "# Обработка словаря\n",
    "mm = corpora.MmCorpus('tweet.model')\n",
    "print(df['text'].values[0])\n",
    "print(mm[0])"
   ]
  },
  {
   "cell_type": "code",
   "execution_count": 17,
   "id": "fe27000f",
   "metadata": {
    "executionInfo": {
     "elapsed": 38276,
     "status": "ok",
     "timestamp": 1674328466055,
     "user": {
      "displayName": "Maxim Gasilin",
      "userId": "15501735730920561422"
     },
     "user_tz": -180
    },
    "id": "fe27000f"
   },
   "outputs": [],
   "source": [
    "# Обучение модели\n",
    "lda = ldamodel.LdaModel(corpus, id2word=dictionary, num_topics=3)"
   ]
  },
  {
   "cell_type": "code",
   "execution_count": 18,
   "id": "dc84bfad",
   "metadata": {
    "colab": {
     "base_uri": "https://localhost:8080/"
    },
    "executionInfo": {
     "elapsed": 362,
     "status": "ok",
     "timestamp": 1674328476772,
     "user": {
      "displayName": "Maxim Gasilin",
      "userId": "15501735730920561422"
     },
     "user_tz": -180
    },
    "id": "dc84bfad",
    "outputId": "fe42b8d3-29bb-47f7-a236-f521b0dc8e5d"
   },
   "outputs": [
    {
     "data": {
      "text/plain": [
       "[(0,\n",
       "  '0.019*\"новый\" + 0.016*\"идти\" + 0.016*\"утро\" + 0.012*\"любимый\" + 0.012*\"голова\" + 0.009*\"телефон\" + 0.009*\"улица\" + 0.009*\"жалко\" + 0.009*\"прийтись\" + 0.009*\"нравиться\" + 0.008*\"снег\" + 0.008*\"бояться\" + 0.008*\"правда\" + 0.007*\"мама\" + 0.006*\"скоро\" + 0.006*\"фильм\" + 0.006*\"лента\" + 0.005*\"фотка\" + 0.005*\"прям\" + 0.005*\"добрый\"'),\n",
       " (1,\n",
       "  '0.022*\"хороший\" + 0.022*\"больш\" + 0.015*\"никто\" + 0.015*\"жаль\" + 0.013*\"настроение\" + 0.011*\"самый\" + 0.008*\"казаться\" + 0.007*\"боль\" + 0.007*\"вчера\" + 0.007*\"ужасный\" + 0.006*\"город\" + 0.006*\"маленький\" + 0.006*\"бог\" + 0.006*\"выйти\" + 0.006*\"друг\" + 0.006*\"глаз\" + 0.005*\"найти\" + 0.005*\"получиться\" + 0.005*\"погода\" + 0.005*\"таки\"'),\n",
       " (2,\n",
       "  '0.031*\"завтра\" + 0.022*\"дом\" + 0.021*\"школа\" + 0.012*\"час\" + 0.011*\"последний\" + 0.010*\"урок\" + 0.010*\"ночь\" + 0.009*\"неделя\" + 0.009*\"прийти\" + 0.008*\"остаться\" + 0.008*\"экзамен\" + 0.008*\"каникулы\" + 0.007*\"дело\" + 0.007*\"друг\" + 0.007*\"закончиться\" + 0.006*\"вроде\" + 0.006*\"твиттер\" + 0.006*\"работа\" + 0.006*\"ранний\" + 0.006*\"нужный\"')]"
      ]
     },
     "execution_count": 18,
     "metadata": {},
     "output_type": "execute_result"
    }
   ],
   "source": [
    "# Определяем тематики\n",
    "lda.show_topics(num_topics=3, num_words=20, formatted=True)"
   ]
  },
  {
   "cell_type": "code",
   "execution_count": 19,
   "id": "e27bd4d4",
   "metadata": {
    "colab": {
     "base_uri": "https://localhost:8080/"
    },
    "executionInfo": {
     "elapsed": 50431,
     "status": "ok",
     "timestamp": 1674328528955,
     "user": {
      "displayName": "Maxim Gasilin",
      "userId": "15501735730920561422"
     },
     "user_tz": -180
    },
    "id": "e27bd4d4",
    "outputId": "14355d44-d59c-4f9f-9e8b-cc19b0b3c6ff"
   },
   "outputs": [
    {
     "name": "stdout",
     "output_type": "stream",
     "text": [
      "-8.131030642196118\n"
     ]
    }
   ],
   "source": [
    "# Оценка качества модели\n",
    "print(lda.log_perplexity(corpus))"
   ]
  },
  {
   "cell_type": "code",
   "execution_count": 20,
   "id": "39467ddc",
   "metadata": {
    "colab": {
     "base_uri": "https://localhost:8080/"
    },
    "executionInfo": {
     "elapsed": 49786,
     "status": "ok",
     "timestamp": 1674328578725,
     "user": {
      "displayName": "Maxim Gasilin",
      "userId": "15501735730920561422"
     },
     "user_tz": -180
    },
    "id": "39467ddc",
    "outputId": "8c45506f-c981-49aa-f8b6-5167026f8371"
   },
   "outputs": [
    {
     "name": "stdout",
     "output_type": "stream",
     "text": [
      "Персплексия:  0.0002942647699411939\n"
     ]
    }
   ],
   "source": [
    "print('Персплексия: ', np.exp(lda.log_perplexity(corpus)))"
   ]
  },
  {
   "cell_type": "markdown",
   "id": "L2Z7-ueBH_nE",
   "metadata": {
    "id": "L2Z7-ueBH_nE"
   },
   "source": [
    "# Визуализация"
   ]
  },
  {
   "cell_type": "code",
   "execution_count": 21,
   "id": "WnSB3M9LHrFc",
   "metadata": {
    "colab": {
     "base_uri": "https://localhost:8080/"
    },
    "executionInfo": {
     "elapsed": 24900,
     "status": "ok",
     "timestamp": 1674328607952,
     "user": {
      "displayName": "Maxim Gasilin",
      "userId": "15501735730920561422"
     },
     "user_tz": -180
    },
    "id": "WnSB3M9LHrFc",
    "outputId": "918b17ca-ba69-429d-c58a-6821e5d3b46b"
   },
   "outputs": [
    {
     "name": "stdout",
     "output_type": "stream",
     "text": [
      "Requirement already satisfied: pyLDAvis in /Users/evgeniilukyanov/opt/anaconda3/lib/python3.9/site-packages (3.3.1)\n",
      "Requirement already satisfied: sklearn in /Users/evgeniilukyanov/opt/anaconda3/lib/python3.9/site-packages (from pyLDAvis) (0.0)\n",
      "Requirement already satisfied: scipy in /Users/evgeniilukyanov/opt/anaconda3/lib/python3.9/site-packages (from pyLDAvis) (1.7.1)\n",
      "Requirement already satisfied: numexpr in /Users/evgeniilukyanov/opt/anaconda3/lib/python3.9/site-packages (from pyLDAvis) (2.7.3)\n",
      "Requirement already satisfied: future in /Users/evgeniilukyanov/opt/anaconda3/lib/python3.9/site-packages (from pyLDAvis) (0.18.2)\n",
      "Requirement already satisfied: setuptools in /Users/evgeniilukyanov/opt/anaconda3/lib/python3.9/site-packages (from pyLDAvis) (58.0.4)\n",
      "Requirement already satisfied: jinja2 in /Users/evgeniilukyanov/opt/anaconda3/lib/python3.9/site-packages (from pyLDAvis) (2.11.3)\n",
      "Requirement already satisfied: gensim in /Users/evgeniilukyanov/opt/anaconda3/lib/python3.9/site-packages (from pyLDAvis) (4.2.0)\n",
      "Requirement already satisfied: numpy>=1.20.0 in /Users/evgeniilukyanov/opt/anaconda3/lib/python3.9/site-packages (from pyLDAvis) (1.22.4)\n",
      "Requirement already satisfied: scikit-learn in /Users/evgeniilukyanov/opt/anaconda3/lib/python3.9/site-packages (from pyLDAvis) (1.1.1)\n",
      "Requirement already satisfied: joblib in /Users/evgeniilukyanov/opt/anaconda3/lib/python3.9/site-packages (from pyLDAvis) (1.1.0)\n",
      "Requirement already satisfied: funcy in /Users/evgeniilukyanov/opt/anaconda3/lib/python3.9/site-packages (from pyLDAvis) (1.17)\n",
      "Requirement already satisfied: pandas>=1.2.0 in /Users/evgeniilukyanov/opt/anaconda3/lib/python3.9/site-packages (from pyLDAvis) (1.3.4)\n",
      "Requirement already satisfied: python-dateutil>=2.7.3 in /Users/evgeniilukyanov/opt/anaconda3/lib/python3.9/site-packages (from pandas>=1.2.0->pyLDAvis) (2.8.2)\n",
      "Requirement already satisfied: pytz>=2017.3 in /Users/evgeniilukyanov/opt/anaconda3/lib/python3.9/site-packages (from pandas>=1.2.0->pyLDAvis) (2021.3)\n",
      "Requirement already satisfied: smart-open>=1.8.1 in /Users/evgeniilukyanov/opt/anaconda3/lib/python3.9/site-packages (from gensim->pyLDAvis) (6.2.0)\n",
      "Requirement already satisfied: MarkupSafe>=0.23 in /Users/evgeniilukyanov/opt/anaconda3/lib/python3.9/site-packages (from jinja2->pyLDAvis) (1.1.1)\n",
      "Requirement already satisfied: threadpoolctl>=2.0.0 in /Users/evgeniilukyanov/opt/anaconda3/lib/python3.9/site-packages (from scikit-learn->pyLDAvis) (2.2.0)\n",
      "Requirement already satisfied: six>=1.5 in /Users/evgeniilukyanov/opt/anaconda3/lib/python3.9/site-packages (from python-dateutil>=2.7.3->pandas>=1.2.0->pyLDAvis) (1.16.0)\n"
     ]
    }
   ],
   "source": [
    "!pip install pyLDAvis"
   ]
  },
  {
   "cell_type": "code",
   "execution_count": 22,
   "id": "1yqRH1ooHxlt",
   "metadata": {
    "colab": {
     "base_uri": "https://localhost:8080/"
    },
    "executionInfo": {
     "elapsed": 509,
     "status": "ok",
     "timestamp": 1674328608427,
     "user": {
      "displayName": "Maxim Gasilin",
      "userId": "15501735730920561422"
     },
     "user_tz": -180
    },
    "id": "1yqRH1ooHxlt",
    "outputId": "51409eef-6ba1-42fc-ad49-e548d6584228"
   },
   "outputs": [],
   "source": [
    "import pyLDAvis.gensim_models as gensimvis"
   ]
  },
  {
   "cell_type": "code",
   "execution_count": 23,
   "id": "SMIJZKa0H44F",
   "metadata": {
    "colab": {
     "base_uri": "https://localhost:8080/"
    },
    "executionInfo": {
     "elapsed": 37208,
     "status": "ok",
     "timestamp": 1674328645632,
     "user": {
      "displayName": "Maxim Gasilin",
      "userId": "15501735730920561422"
     },
     "user_tz": -180
    },
    "id": "SMIJZKa0H44F",
    "outputId": "4ea6c190-9121-40e0-9673-e2dcbe69cffa"
   },
   "outputs": [
    {
     "name": "stderr",
     "output_type": "stream",
     "text": [
      "/Users/evgeniilukyanov/opt/anaconda3/lib/python3.9/site-packages/pyLDAvis/_prepare.py:246: FutureWarning: In a future version of pandas all arguments of DataFrame.drop except for the argument 'labels' will be keyword-only\n",
      "  default_term_info = default_term_info.sort_values(\n",
      "/Users/evgeniilukyanov/opt/anaconda3/lib/python3.9/site-packages/past/builtins/misc.py:45: DeprecationWarning: the imp module is deprecated in favour of importlib; see the module's documentation for alternative uses\n",
      "  from imp import reload\n",
      "/Users/evgeniilukyanov/opt/anaconda3/lib/python3.9/site-packages/past/builtins/misc.py:45: DeprecationWarning: the imp module is deprecated in favour of importlib; see the module's documentation for alternative uses\n",
      "  from imp import reload\n",
      "/Users/evgeniilukyanov/opt/anaconda3/lib/python3.9/site-packages/past/builtins/misc.py:45: DeprecationWarning: the imp module is deprecated in favour of importlib; see the module's documentation for alternative uses\n",
      "  from imp import reload\n",
      "/Users/evgeniilukyanov/opt/anaconda3/lib/python3.9/site-packages/past/builtins/misc.py:45: DeprecationWarning: the imp module is deprecated in favour of importlib; see the module's documentation for alternative uses\n",
      "  from imp import reload\n"
     ]
    }
   ],
   "source": [
    "v_data = gensimvis.prepare(lda, corpus, dictionary)"
   ]
  },
  {
   "cell_type": "code",
   "execution_count": 24,
   "id": "KG3BUKd1H9A2",
   "metadata": {
    "executionInfo": {
     "elapsed": 33,
     "status": "ok",
     "timestamp": 1674328645634,
     "user": {
      "displayName": "Maxim Gasilin",
      "userId": "15501735730920561422"
     },
     "user_tz": -180
    },
    "id": "KG3BUKd1H9A2"
   },
   "outputs": [],
   "source": [
    "import pyLDAvis"
   ]
  },
  {
   "cell_type": "code",
   "execution_count": 25,
   "id": "965c8239",
   "metadata": {
    "colab": {
     "base_uri": "https://localhost:8080/",
     "height": 861
    },
    "executionInfo": {
     "elapsed": 33,
     "status": "ok",
     "timestamp": 1674328645635,
     "user": {
      "displayName": "Maxim Gasilin",
      "userId": "15501735730920561422"
     },
     "user_tz": -180
    },
    "id": "965c8239",
    "outputId": "fc26cf7a-0d4a-4fa2-8093-de65b47f9e27"
   },
   "outputs": [
    {
     "data": {
      "text/html": [
       "\n",
       "<link rel=\"stylesheet\" type=\"text/css\" href=\"https://cdn.jsdelivr.net/gh/bmabey/pyLDAvis@3.3.1/pyLDAvis/js/ldavis.v1.0.0.css\">\n",
       "\n",
       "\n",
       "<div id=\"ldavis_el30151407194528589604353010098\"></div>\n",
       "<script type=\"text/javascript\">\n",
       "\n",
       "var ldavis_el30151407194528589604353010098_data = {\"mdsDat\": {\"x\": [0.05650509753881285, -0.33297730960673877, 0.2764722120679259], \"y\": [-0.34925132117754637, 0.12605441900061964, 0.22319690217692684], \"topics\": [1, 2, 3], \"cluster\": [1, 1, 1], \"Freq\": [34.8442123741563, 33.031405686691635, 32.124381939152066]}, \"tinfo\": {\"Term\": [\"\\u0437\\u0430\\u0432\\u0442\\u0440\\u0430\", \"\\u0431\\u043e\\u043b\\u044c\\u0448\", \"\\u0445\\u043e\\u0440\\u043e\\u0448\\u0438\\u0439\", \"\\u0448\\u043a\\u043e\\u043b\\u0430\", \"\\u043d\\u043e\\u0432\\u044b\\u0439\", \"\\u0434\\u043e\\u043c\", \"\\u0438\\u0434\\u0442\\u0438\", \"\\u0443\\u0442\\u0440\\u043e\", \"\\u043d\\u0438\\u043a\\u0442\\u043e\", \"\\u0436\\u0430\\u043b\\u044c\", \"\\u043d\\u0430\\u0441\\u0442\\u0440\\u043e\\u0435\\u043d\\u0438\\u0435\", \"\\u0447\\u0430\\u0441\", \"\\u0433\\u043e\\u043b\\u043e\\u0432\\u0430\", \"\\u043b\\u044e\\u0431\\u0438\\u043c\\u044b\\u0439\", \"\\u043f\\u043e\\u0441\\u043b\\u0435\\u0434\\u043d\\u0438\\u0439\", \"\\u0443\\u0440\\u043e\\u043a\", \"\\u043d\\u043e\\u0447\\u044c\", \"\\u043d\\u0435\\u0434\\u0435\\u043b\\u044f\", \"\\u0442\\u0435\\u043b\\u0435\\u0444\\u043e\\u043d\", \"\\u0443\\u043b\\u0438\\u0446\\u0430\", \"\\u043f\\u0440\\u0438\\u0439\\u0442\\u0438\", \"\\u0436\\u0430\\u043b\\u043a\\u043e\", \"\\u043f\\u0440\\u0438\\u0439\\u0442\\u0438\\u0441\\u044c\", \"\\u043d\\u0440\\u0430\\u0432\\u0438\\u0442\\u044c\\u0441\\u044f\", \"\\u043a\\u0430\\u0437\\u0430\\u0442\\u044c\\u0441\\u044f\", \"\\u044d\\u043a\\u0437\\u0430\\u043c\\u0435\\u043d\", \"\\u043e\\u0441\\u0442\\u0430\\u0442\\u044c\\u0441\\u044f\", \"\\u0441\\u043d\\u0435\\u0433\", \"\\u0431\\u043e\\u044f\\u0442\\u044c\\u0441\\u044f\", \"\\u043a\\u0430\\u043d\\u0438\\u043a\\u0443\\u043b\\u044b\", \"\\u0448\\u043a\\u043e\\u043b\\u0430\", \"\\u0447\\u0430\\u0441\", \"\\u0443\\u0440\\u043e\\u043a\", \"\\u043d\\u0435\\u0434\\u0435\\u043b\\u044f\", \"\\u044d\\u043a\\u0437\\u0430\\u043c\\u0435\\u043d\", \"\\u043a\\u0430\\u043d\\u0438\\u043a\\u0443\\u043b\\u044b\", \"\\u0440\\u0430\\u043d\\u043d\\u0438\\u0439\", \"\\u0442\\u0432\\u0438\\u0442\\u0442\\u0435\\u0440\", \"\\u0443\\u0447\\u0451\\u0431\\u0430\", \"\\u0447\\u0443\\u0432\\u0441\\u0442\\u0432\\u043e\", \"\\u043c\\u0435\\u0441\\u044f\\u0446\", \"\\u0443\\u0439\\u0442\\u0438\", \"\\u043a\\u043e\\u043d\\u0435\\u0446\", \"\\u0442\\u0432\\u0438\\u0442\", \"\\u0432\\u044b\\u0445\\u043e\\u0434\\u043d\", \"\\u0443\\u0436\\u0430\\u0441\", \"\\u043f\\u0430\\u043f\\u0430\", \"\\u043b\\u0435\\u043d\\u044c\", \"\\u0441\\u0440\\u0430\\u0437\\u0443\", \"\\u0432\\u043e\\u043f\\u0440\\u043e\\u0441\", \"\\u0441\\u043b\\u0435\\u0437\\u0430\", \"\\u0432\\u044b\\u0441\\u043f\\u0430\\u0442\\u044c\\u0441\\u044f\", \"\\u0441\\u0435\\u0441\\u0441\\u0438\\u044f\", \"\\u043f\\u044b\\u0442\\u0430\\u0442\\u044c\\u0441\\u044f\", \"\\u043c\\u043e\\u043c\\u0435\\u043d\\u0442\", \"\\u0441\\u043e\\u0431\\u0438\\u0440\\u0430\\u0442\\u044c\\u0441\\u044f\", \"\\u043b\\u0430\\u0434\\u043d\\u044b\\u0439\", \"\\u043d\\u043e\\u0440\\u043c\\u0430\", \"\\u044f\\u043d\\u0432\\u0430\\u0440\\u044c\", \"\\u043b\\u0435\\u0447\\u044c\", \"\\u043f\\u043e\\u0441\\u043b\\u0435\\u0434\\u043d\\u0438\\u0439\", \"\\u043d\\u043e\\u0447\\u044c\", \"\\u043e\\u0441\\u0442\\u0430\\u0442\\u044c\\u0441\\u044f\", \"\\u0434\\u0435\\u043b\\u043e\", \"\\u043f\\u0440\\u0438\\u0439\\u0442\\u0438\", \"\\u043f\\u0430\\u0440\\u0430\", \"\\u043d\\u043e\\u0433\\u0430\", \"\\u0434\\u043e\\u043b\\u0436\\u043d\\u044b\\u0439\", \"\\u0437\\u0430\\u0432\\u0442\\u0440\\u0430\", \"\\u0437\\u0430\\u043a\\u043e\\u043d\\u0447\\u0438\\u0442\\u044c\\u0441\\u044f\", \"\\u043f\\u0430\\u0440\\u0435\\u043d\\u044c\", \"\\u043d\\u0443\\u0436\\u043d\\u044b\\u0439\", \"\\u0434\\u043e\\u043c\", \"\\u0441\\u043b\\u043e\\u0432\\u043e\", \"\\u0432\\u0440\\u043e\\u0434\\u0435\", \"\\u043c\\u0438\\u043d\\u0443\\u0442\\u0430\", \"\\u043f\\u0440\\u043e\\u0441\\u043d\\u0443\\u0442\\u044c\\u0441\\u044f\", \"\\u0434\\u0440\\u0443\\u0433\", \"\\u0440\\u0430\\u0431\\u043e\\u0442\\u0430\", \"\\u043d\\u0438\\u043a\\u0442\\u043e\", \"\\u0436\\u0430\\u043b\\u044c\", \"\\u043a\\u0430\\u0437\\u0430\\u0442\\u044c\\u0441\\u044f\", \"\\u0431\\u043e\\u043b\\u044c\", \"\\u0443\\u0436\\u0430\\u0441\\u043d\\u044b\\u0439\", \"\\u0431\\u043e\\u0433\", \"\\u0432\\u044b\\u0439\\u0442\\u0438\", \"\\u043f\\u043e\\u043b\\u0443\\u0447\\u0438\\u0442\\u044c\\u0441\\u044f\", \"\\u043b\\u044e\\u0431\\u043e\\u0432\\u044c\", \"\\u043f\\u0435\\u0447\\u0430\\u043b\\u044c\", \"\\u0442\\u0435\\u043c\\u043f\\u0435\\u0440\\u0430\\u0442\\u0443\\u0440\\u0430\", \"\\u0437\\u0438\\u043c\\u0430\", \"\\u0441\\u0442\\u0430\\u0440\\u044b\\u0439\", \"\\u0443\\u0447\\u0438\\u0442\\u044c\\u0441\\u044f\", \"\\u043d\\u0430\\u0447\\u0430\\u0442\\u044c\\u0441\\u044f\", \"\\u0441\\u0435\\u0440\\u0434\\u0446\\u0435\", \"\\u043d\\u0435\\u0447\\u0435\\u0433\\u043e\", \"\\u043f\\u043e\\u0433\\u043e\\u0434\\u0430\", \"\\u043a\\u043b\\u0430\\u0441\\u0441\", \"\\u0431\\u043e\\u043b\\u044c\\u043d\\u0438\\u0446\\u0430\", \"\\u0440\\u043e\\u0434\\u043d\\u044b\\u0439\", \"\\u0431\\u0440\\u0430\\u0442\", \"\\u0434\\u043e\\u0436\\u0434\\u044c\", \"\\u0442\\u0443\\u043f\", \"\\u0442\\u0430\\u043a\\u0438\", \"\\u0442\\u044f\\u0436\\u0435\\u043b\\u043e\", \"\\u043f\\u043b\\u0430\\u0447\", \"\\u0444\\u0438\\u0437\\u0438\\u043a\\u0430\", \"\\u0433\\u043e\\u0441\\u043f\\u043e\\u0434\\u044c\", \"\\u0432\\u0438\\u0434\\u0438\\u043c\\u043e\", \"\\u0431\\u043e\\u043b\\u044c\\u0448\", \"\\u043d\\u0430\\u0441\\u0442\\u0440\\u043e\\u0435\\u043d\\u0438\\u0435\", \"\\u0445\\u043e\\u0440\\u043e\\u0448\\u0438\\u0439\", \"\\u043f\\u0440\\u043e\\u0431\\u043b\\u0435\\u043c\\u0430\", \"\\u0434\\u0435\\u0432\\u0443\\u0448\\u043a\\u0430\", \"\\u0433\\u043e\\u0440\\u043e\\u0434\", \"\\u0448\\u0435\\u0440\\u043b\\u043e\\u043a\", \"\\u0431\\u044b\\u0441\\u0442\\u0440\\u043e\", \"\\u0440\\u0435\\u0431\\u044f\\u0442\\u0430\", \"\\u0433\\u043b\\u0430\\u0437\", \"\\u043c\\u0430\\u043b\\u0435\\u043d\\u044c\\u043a\\u0438\\u0439\", \"\\u0441\\u0430\\u043c\\u044b\\u0439\", \"\\u0432\\u0447\\u0435\\u0440\\u0430\", \"\\u043d\\u0430\\u0439\\u0442\\u0438\", \"\\u0434\\u0440\\u0443\\u0433\", \"\\u0443\\u0442\\u0440\\u043e\", \"\\u043d\\u043e\\u0432\\u044b\\u0439\", \"\\u0433\\u043e\\u043b\\u043e\\u0432\\u0430\", \"\\u0442\\u0435\\u043b\\u0435\\u0444\\u043e\\u043d\", \"\\u0436\\u0430\\u043b\\u043a\\u043e\", \"\\u0443\\u043b\\u0438\\u0446\\u0430\", \"\\u043f\\u0440\\u0438\\u0439\\u0442\\u0438\\u0441\\u044c\", \"\\u043d\\u0440\\u0430\\u0432\\u0438\\u0442\\u044c\\u0441\\u044f\", \"\\u0431\\u043e\\u044f\\u0442\\u044c\\u0441\\u044f\", \"\\u0434\\u043e\\u0431\\u0440\\u044b\\u0439\", \"\\u043f\\u0440\\u044f\\u043c\", \"\\u043f\\u043e\\u043b\\u0443\\u0447\\u0430\\u0442\\u044c\\u0441\\u044f\", \"\\u043a\\u0440\\u0443\\u0442\\u043e\", \"\\u0446\\u0435\\u043b\\u044b\\u0439\", \"\\u0447\\u0435\\u0440\\u0442\\u0430\", \"\\u0441\\u043e\\u0441\\u043a\\u0443\\u0447\\u0438\\u0442\\u044c\\u0441\\u044f\", \"\\u043f\\u0440\\u0430\\u0437\\u0434\\u043d\\u0438\\u043a\", \"\\u0441\\u0435\\u0437\\u043e\\u043d\", \"\\u0447\\u0451\\u0440\\u043d\\u044b\\u0439\", \"\\u043a\\u0430\\u0442\\u043e\\u043a\", \"\\u043f\\u043e\\u043b\\u043d\\u044b\\u0439\", \"\\u043c\\u0430\\u0433\\u0430\\u0437\\u0438\\u043d\", \"\\u043a\\u043d\\u0438\\u0433\\u0430\", \"\\u0431\\u0438\\u043b\\u0435\\u0442\", \"\\u0434\\u043e\\u0440\\u043e\\u0433\\u0430\", \"\\u043c\\u0430\\u0448\\u0438\\u043d\\u0430\", \"\\u043c\\u043e\\u0440\\u043e\\u0437\", \"\\u043c\\u043e\\u0441\\u043a\\u0432\\u0430\", \"\\u0431\\u0430\\u0431\\u0443\\u0448\\u043a\\u0430\", \"\\u043d\\u0430\\u0445\\u0443\\u0439\", \"\\u0438\\u0434\\u0442\\u0438\", \"\\u0441\\u043d\\u0435\\u0433\", \"\\u043b\\u044e\\u0431\\u0438\\u043c\\u044b\\u0439\", \"\\u043c\\u044b\\u0441\\u043b\\u044c\", \"\\u043b\\u0435\\u043d\\u0442\\u0430\", \"\\u043b\\u0435\\u0442\\u043e\", \"\\u043f\\u0440\\u0430\\u0432\\u0434\\u0430\", \"\\u043f\\u043e\\u0445\\u043e\\u0434\", \"\\u043f\\u0435\\u0441\\u043d\\u044f\", \"\\u0444\\u0438\\u043b\\u044c\\u043c\", \"\\u0444\\u043e\\u0442\\u043a\\u0430\", \"\\u0441\\u043a\\u043e\\u0440\\u043e\", \"\\u043c\\u0430\\u043c\\u0430\", \"\\u0434\\u0435\\u043d\\u044c\\u0433\\u0430\"], \"Freq\": [7376.0, 4781.0, 4963.0, 4838.0, 4112.0, 5586.0, 3454.0, 3380.0, 3408.0, 3274.0, 2880.0, 2716.0, 2514.0, 2539.0, 2615.0, 2422.0, 2306.0, 2176.0, 1993.0, 1911.0, 2101.0, 1849.0, 1839.0, 1837.0, 1868.0, 1948.0, 1959.0, 1778.0, 1752.0, 1839.0, 4837.293696745235, 2715.9986344207077, 2422.044958635237, 2175.7539878720713, 1947.5423781390678, 1838.218419893084, 1380.9608584920647, 1409.4789304946391, 1318.2432277196226, 1307.4848592221867, 1242.0070231428983, 1251.651742570291, 1240.4027697343136, 1204.645816073272, 1194.7540047415687, 1133.8551786449314, 1061.8477383269687, 906.620547306189, 1014.8894296288931, 920.2826253200425, 980.2639139195048, 846.8426376885452, 840.331907019384, 907.8863780890277, 1164.2696105083771, 771.0034288843307, 793.3582499874803, 762.3218580804357, 760.9212548256452, 694.2623020887448, 2611.267895568905, 2300.0264639849047, 1956.6891173501783, 1735.0548381235822, 2090.5183447014683, 1230.7679209668386, 1178.2256389439524, 1124.335089857597, 7220.257133296636, 1537.8732206389955, 1323.115645780044, 1380.9353683263435, 5201.852094452466, 1358.4985990521197, 1489.9542038652041, 1298.0159677038757, 1206.4594142471421, 1600.225094650535, 1404.3018236022563, 3407.737867797019, 3273.630679749487, 1867.6129241479796, 1642.148491808676, 1503.3132804110853, 1303.6624920958088, 1275.283349657568, 1201.3445542784611, 988.4501387385153, 974.3065819699103, 987.6578675849474, 1075.0624962838383, 1013.7993195827025, 1092.6316875081359, 1087.1456339252281, 909.9046542028877, 981.9186574050138, 1166.7394253279062, 1070.7707619025775, 896.9474990656735, 816.8133077866066, 771.7947230884497, 808.2677816659626, 767.5931667476405, 1155.4651137597111, 710.9168852773846, 682.3850982541378, 672.806689104605, 650.0258343782946, 653.7548043178322, 4775.462963220295, 2873.812507366108, 4908.317324306754, 1115.255681800343, 968.3154491000039, 1388.75303094252, 939.6493204463694, 1040.022209445951, 839.3086672685457, 1260.9785623673804, 1381.165222346124, 2387.8472632219473, 1506.1834510417848, 1201.3920596999988, 1269.1547389768477, 3379.645056007639, 4111.084888027191, 2513.9140641338213, 1992.486948142896, 1848.5627903182606, 1910.8962713506362, 1838.9819934206896, 1836.4245408617842, 1751.4049936018719, 1099.7612014925076, 1125.1042223238433, 1025.316171552386, 940.8042347245142, 961.4985600192396, 922.5833602623518, 887.5875410537232, 885.4470970648747, 911.6189349294553, 883.8431641020107, 853.6168429126371, 847.8288239614805, 760.5785808579293, 844.0561464281552, 762.854827637698, 744.9668600171949, 768.0585345804991, 711.8765299687938, 730.3314092400528, 640.0515538741136, 638.9357809435596, 3450.232106661376, 1775.036879267202, 2519.9319878098127, 960.9003477252155, 1224.7717706188214, 1024.1581477535228, 1613.1758528170856, 953.1880892284869, 1014.6729528206939, 1321.0499492579388, 1149.4799232755242, 1372.2472014266366, 1527.5366928233432, 948.8892008808596], \"Total\": [7376.0, 4781.0, 4963.0, 4838.0, 4112.0, 5586.0, 3454.0, 3380.0, 3408.0, 3274.0, 2880.0, 2716.0, 2514.0, 2539.0, 2615.0, 2422.0, 2306.0, 2176.0, 1993.0, 1911.0, 2101.0, 1849.0, 1839.0, 1837.0, 1868.0, 1948.0, 1959.0, 1778.0, 1752.0, 1839.0, 4838.14527553075, 2716.8211370177987, 2422.8385008418686, 2176.568319003722, 1948.3420299781471, 1839.011649805785, 1381.7769001336305, 1410.3271865989605, 1319.0452791470746, 1308.3041375761786, 1242.8192372104743, 1252.4750164841685, 1241.2209461745829, 1205.4707415145192, 1195.5876437939805, 1134.6903382820099, 1062.6625177952521, 907.4061681954722, 1015.7765349895259, 921.0942904224174, 981.1382661772108, 847.630562165995, 841.1281909081683, 908.7528164188683, 1165.4140550520274, 771.8097523541021, 794.1924162027279, 763.1579256906555, 761.7569608691912, 695.0461248839989, 2615.767869380509, 2306.6090792469363, 1959.8436185291382, 1737.3809613558255, 2101.357872778937, 1232.1782874338019, 1179.5935979528747, 1125.7576878367956, 7376.450300853694, 1551.1868992302966, 1332.1364826794872, 1394.2082140960292, 5586.5396878900165, 1381.2794059518142, 1549.1845198524109, 1397.3364355438853, 1254.1276734919304, 2923.0628493816866, 2543.7305264866345, 3408.773648049611, 3274.6258585273417, 1868.4197969899637, 1642.9072165458979, 1504.0889206769602, 1304.4633682260956, 1276.0824208156303, 1202.1297257114531, 989.2013684620222, 975.0702096207123, 988.4331538195046, 1075.9178834328516, 1014.6065723803013, 1093.5143107662502, 1088.027310784234, 910.6592286690953, 982.7478608708185, 1167.7256071574425, 1071.7089208471102, 897.7379779500421, 817.5694621373084, 772.5514660799862, 809.0706857603428, 768.3784799668941, 1156.685545090644, 711.6992213513499, 683.1636038106456, 673.6094030323574, 650.8090320027306, 654.542996493627, 4781.58469245875, 2880.946529808624, 4963.62056317906, 1117.3048001898735, 969.6555548120294, 1395.7997638843917, 940.8045376425226, 1043.5708405744367, 840.4638966556618, 1367.1094478860757, 1568.0403416926138, 3369.2235510385003, 2025.483186531084, 2122.2344508411898, 2923.0628493816866, 3380.435610419555, 4112.125287613311, 2514.8084415420017, 1993.303797976301, 1849.3387842184372, 1911.7072453894116, 1839.7693395862225, 1837.3254153616444, 1752.4813921207087, 1100.5086747539299, 1125.9484874538396, 1026.099747098821, 941.557570399147, 962.2771519680504, 923.3643520375998, 888.3409011976736, 886.1991304084345, 912.4127350032361, 884.6441632716698, 854.3998862195823, 848.6138194602877, 761.3293379178901, 844.9345099167538, 763.6527232531283, 745.7546471082994, 768.8716530365467, 712.6375560725404, 731.119006456925, 640.8141064463767, 639.7148028961049, 3454.4881414140173, 1778.1795641936671, 2539.5957869342233, 962.1517393783669, 1230.3132044266629, 1027.0442286947055, 1638.7134771309584, 963.8729158331457, 1100.421043222962, 1835.4238500487927, 1502.8298609697435, 2150.883607801894, 3055.447800624333, 1372.7193730724687], \"Category\": [\"Default\", \"Default\", \"Default\", \"Default\", \"Default\", \"Default\", \"Default\", \"Default\", \"Default\", \"Default\", \"Default\", \"Default\", \"Default\", \"Default\", \"Default\", \"Default\", \"Default\", \"Default\", \"Default\", \"Default\", \"Default\", \"Default\", \"Default\", \"Default\", \"Default\", \"Default\", \"Default\", \"Default\", \"Default\", \"Default\", \"Topic1\", \"Topic1\", \"Topic1\", \"Topic1\", \"Topic1\", \"Topic1\", \"Topic1\", \"Topic1\", \"Topic1\", \"Topic1\", \"Topic1\", \"Topic1\", \"Topic1\", \"Topic1\", \"Topic1\", \"Topic1\", \"Topic1\", \"Topic1\", \"Topic1\", \"Topic1\", \"Topic1\", \"Topic1\", \"Topic1\", \"Topic1\", \"Topic1\", \"Topic1\", \"Topic1\", \"Topic1\", \"Topic1\", \"Topic1\", \"Topic1\", \"Topic1\", \"Topic1\", \"Topic1\", \"Topic1\", \"Topic1\", \"Topic1\", \"Topic1\", \"Topic1\", \"Topic1\", \"Topic1\", \"Topic1\", \"Topic1\", \"Topic1\", \"Topic1\", \"Topic1\", \"Topic1\", \"Topic1\", \"Topic1\", \"Topic2\", \"Topic2\", \"Topic2\", \"Topic2\", \"Topic2\", \"Topic2\", \"Topic2\", \"Topic2\", \"Topic2\", \"Topic2\", \"Topic2\", \"Topic2\", \"Topic2\", \"Topic2\", \"Topic2\", \"Topic2\", \"Topic2\", \"Topic2\", \"Topic2\", \"Topic2\", \"Topic2\", \"Topic2\", \"Topic2\", \"Topic2\", \"Topic2\", \"Topic2\", \"Topic2\", \"Topic2\", \"Topic2\", \"Topic2\", \"Topic2\", \"Topic2\", \"Topic2\", \"Topic2\", \"Topic2\", \"Topic2\", \"Topic2\", \"Topic2\", \"Topic2\", \"Topic2\", \"Topic2\", \"Topic2\", \"Topic2\", \"Topic2\", \"Topic2\", \"Topic3\", \"Topic3\", \"Topic3\", \"Topic3\", \"Topic3\", \"Topic3\", \"Topic3\", \"Topic3\", \"Topic3\", \"Topic3\", \"Topic3\", \"Topic3\", \"Topic3\", \"Topic3\", \"Topic3\", \"Topic3\", \"Topic3\", \"Topic3\", \"Topic3\", \"Topic3\", \"Topic3\", \"Topic3\", \"Topic3\", \"Topic3\", \"Topic3\", \"Topic3\", \"Topic3\", \"Topic3\", \"Topic3\", \"Topic3\", \"Topic3\", \"Topic3\", \"Topic3\", \"Topic3\", \"Topic3\", \"Topic3\", \"Topic3\", \"Topic3\", \"Topic3\", \"Topic3\", \"Topic3\", \"Topic3\", \"Topic3\", \"Topic3\"], \"logprob\": [30.0, 29.0, 28.0, 27.0, 26.0, 25.0, 24.0, 23.0, 22.0, 21.0, 20.0, 19.0, 18.0, 17.0, 16.0, 15.0, 14.0, 13.0, 12.0, 11.0, 10.0, 9.0, 8.0, 7.0, 6.0, 5.0, 4.0, 3.0, 2.0, 1.0, -3.8744, -4.4516, -4.5661, -4.6734, -4.7842, -4.842, -5.128, -5.1075, -5.1745, -5.1827, -5.234, -5.2263, -5.2353, -5.2646, -5.2728, -5.3251, -5.3907, -5.5488, -5.436, -5.5338, -5.4707, -5.617, -5.6247, -5.5474, -5.2987, -5.7108, -5.6822, -5.7221, -5.724, -5.8157, -4.4909, -4.6178, -4.7795, -4.8997, -4.7133, -5.2431, -5.2867, -5.3336, -3.4739, -5.0204, -5.1708, -5.128, -3.8017, -5.1444, -5.052, -5.1899, -5.2631, -4.9806, -5.1112, -4.1713, -4.2114, -4.7727, -4.9013, -4.9897, -5.1322, -5.1542, -5.2139, -5.4089, -5.4234, -5.4097, -5.325, -5.3836, -5.3087, -5.3138, -5.4917, -5.4156, -5.2431, -5.329, -5.5061, -5.5997, -5.6564, -5.6102, -5.6618, -5.2528, -5.7385, -5.7795, -5.7936, -5.8281, -5.8224, -3.8338, -4.3417, -3.8064, -5.2882, -5.4295, -5.0689, -5.4596, -5.3581, -5.5725, -5.1654, -5.0744, -4.5269, -4.9878, -5.2139, -5.159, -4.1517, -3.9558, -4.4476, -4.6801, -4.7551, -4.7219, -4.7603, -4.7617, -4.8091, -5.2744, -5.2516, -5.3445, -5.4305, -5.4087, -5.4501, -5.4887, -5.4912, -5.462, -5.493, -5.5278, -5.5346, -5.6432, -5.539, -5.6402, -5.6639, -5.6334, -5.7093, -5.6837, -5.8157, -5.8174, -4.131, -4.7957, -4.4453, -5.4094, -5.1667, -5.3456, -4.8913, -5.4174, -5.3549, -5.0911, -5.2302, -5.053, -4.9458, -5.422], \"loglift\": [30.0, 29.0, 28.0, 27.0, 26.0, 25.0, 24.0, 23.0, 22.0, 21.0, 20.0, 19.0, 18.0, 17.0, 16.0, 15.0, 14.0, 13.0, 12.0, 11.0, 10.0, 9.0, 8.0, 7.0, 6.0, 5.0, 4.0, 3.0, 2.0, 1.0, 1.0541, 1.054, 1.054, 1.0539, 1.0539, 1.0539, 1.0537, 1.0537, 1.0537, 1.0537, 1.0536, 1.0536, 1.0536, 1.0536, 1.0536, 1.0535, 1.0535, 1.0534, 1.0534, 1.0534, 1.0534, 1.0534, 1.0533, 1.0533, 1.0533, 1.0532, 1.0532, 1.0532, 1.0532, 1.0532, 1.0526, 1.0514, 1.0527, 1.0529, 1.0491, 1.0531, 1.0531, 1.053, 1.0329, 1.0457, 1.0475, 1.0447, 0.9829, 1.0377, 1.0153, 0.9806, 1.0155, 0.4518, 0.4602, 1.1074, 1.1074, 1.1073, 1.1072, 1.1072, 1.1071, 1.1071, 1.1071, 1.107, 1.1069, 1.1069, 1.1069, 1.1069, 1.1069, 1.1069, 1.1069, 1.1069, 1.1069, 1.1068, 1.1068, 1.1068, 1.1067, 1.1067, 1.1067, 1.1067, 1.1066, 1.1066, 1.1065, 1.1065, 1.1065, 1.1064, 1.1052, 1.0965, 1.1059, 1.1063, 1.1027, 1.1065, 1.1043, 1.1063, 1.0269, 0.9808, 0.7634, 0.8115, 0.5387, 0.2734, 1.1353, 1.1353, 1.1352, 1.1351, 1.1351, 1.1351, 1.1351, 1.1351, 1.1349, 1.1349, 1.1348, 1.1348, 1.1348, 1.1347, 1.1347, 1.1347, 1.1347, 1.1347, 1.1346, 1.1346, 1.1346, 1.1346, 1.1345, 1.1345, 1.1345, 1.1345, 1.1345, 1.1345, 1.1344, 1.1343, 1.1343, 1.1338, 1.1278, 1.1343, 1.131, 1.1327, 1.1198, 1.1244, 1.0544, 0.8067, 0.8675, 0.6861, 0.4423, 0.7663]}, \"token.table\": {\"Topic\": [3, 3, 2, 2, 2, 1, 2, 1, 3, 2, 2, 3, 2, 1, 1, 2, 1, 2, 3, 2, 1, 1, 2, 3, 2, 3, 1, 2, 3, 2, 1, 2, 1, 3, 1, 2, 3, 3, 2, 1, 2, 1, 2, 3, 3, 1, 2, 3, 3, 1, 2, 1, 2, 3, 1, 3, 2, 1, 3, 2, 1, 3, 1, 2, 3, 1, 3, 1, 1, 2, 3, 1, 2, 3, 1, 1, 2, 3, 2, 3, 1, 2, 3, 1, 2, 3, 3, 1, 1, 2, 3, 1, 3, 3, 3, 2, 3, 1, 2, 3, 1, 2, 3, 3, 2, 1, 2, 1, 2, 2, 3, 1, 2, 3, 1, 1, 3, 2, 3, 1, 2, 3, 1, 3, 1, 1, 2, 1, 3, 2, 3, 2, 2, 2, 3, 3, 3, 2, 1, 2, 3, 1, 3, 2, 3, 3, 1, 2, 3, 3, 1, 2, 3, 1, 3, 3, 1, 1, 2, 3, 1, 2, 3, 2, 1, 2, 3, 3, 2, 1, 1, 2, 3, 1, 1, 2, 1, 2, 3, 1, 3, 1, 2, 1, 2, 1, 1, 3, 2, 2, 2, 1, 2, 1, 3, 1, 3, 2, 1, 2, 1, 3, 2, 3, 1, 2, 3, 3, 1, 3, 1, 3, 1, 2, 3, 1, 1, 1], \"Freq\": [0.9987295747110011, 0.9991452616703208, 0.9996447824926462, 0.9994477980638461, 0.999177958415297, 0.001254814122494341, 0.998622905818413, 0.0005706194681986793, 0.9991546888158874, 0.999286175608747, 0.9965782480349191, 0.002874744946254574, 0.9991704189082523, 0.9988119669899207, 0.9617963392391442, 0.03808455303027484, 0.0019748374247680355, 0.7435262904251653, 0.2542603184388846, 0.9991517626150367, 0.9992560884492134, 0.9995084895724451, 0.9223840870603668, 0.07753585505820688, 0.0003976446012670577, 0.999678527585383, 0.0007164351405369816, 0.9951284102058675, 0.00429861084322189, 0.9987568826446046, 0.0010312940456406222, 0.9982926361801223, 0.9986295686387817, 0.0011511580041945611, 0.30741898765183506, 0.000728481013392974, 0.6913284817099323, 0.9995377821496558, 0.9986766474435586, 0.9984386623730963, 0.0008882906248870964, 0.9311667491195693, 0.06551461556665943, 0.0034010319556462545, 0.9989880758889996, 0.5473710564719629, 0.43413366916432555, 0.018473773155928748, 0.999816807920037, 0.00030537839838891336, 0.9998088763253024, 0.9787905707389383, 0.011794290810843162, 0.009354092712048024, 0.9914988327732526, 0.008380679340736205, 0.9991468833755947, 0.0011579139473793909, 0.9987007796147246, 0.9997753197698718, 0.9994498948356897, 0.9995319683136293, 0.0009330891817244282, 0.9993385136268625, 0.9988939853849196, 0.999016334538709, 0.9994078212350725, 0.9984985802201068, 0.0016256023204530411, 0.0024384034806795617, 0.9956814212774877, 0.9995523854590057, 0.002921003707710592, 0.9970359322318821, 0.9984948842291963, 0.007481505559960243, 0.00039376345052422333, 0.9922838953210428, 0.9987855167811889, 0.9995674172772708, 0.10586462324101438, 0.8807171367219329, 0.013392512578682542, 0.33382995441505464, 0.16626040866945857, 0.5000903630845132, 0.9988663217936254, 0.9993408235196672, 0.9289101514731343, 0.007156472661580387, 0.06369260668806545, 0.9987866500786587, 0.0008580641323699817, 0.999105357180368, 0.9984694605843338, 0.0010393371014909628, 0.9988029545328152, 0.22382069983442418, 0.5659129694760915, 0.21015585710769094, 0.0003471081429846698, 0.9975888029379409, 0.002082648857908019, 0.9988826225485656, 0.9990558042302324, 0.9997388921823588, 0.9992390104312658, 0.00029336063442410363, 0.9997730421173452, 0.00024318325198218916, 0.9997263488987796, 0.9986490279740071, 0.0008477495992988176, 0.0008477495992988176, 0.9984827181220616, 0.9971347207004431, 0.002601221010522895, 0.0005442693992251601, 0.999278616977394, 0.9905263690441007, 0.008607035791838673, 0.0007172529826532228, 0.998549058454331, 0.0015307343767823162, 0.9993765492015031, 0.9990437362467603, 0.0008115708661630872, 0.9931414815236425, 0.006756064500160833, 0.07724316117315262, 0.9223742187147048, 0.9989024281429657, 0.9982967420920039, 0.9993786150162376, 0.0008563655655666132, 0.9992766798675538, 0.9989282259332679, 0.9990602297844482, 0.9981772582206851, 0.0007645938400771238, 0.0011468907601156857, 0.010374811695332543, 0.9887195545651913, 0.015255870137694678, 0.9843087412840607, 0.9986468837902359, 0.995070866836576, 0.0004758827674971669, 0.004758827674971669, 0.999581828238101, 0.0008950109225612037, 0.997937178655742, 0.0008950109225612037, 0.9616245821624156, 0.03747624822689348, 0.9991576102597869, 0.9991715938533925, 0.5519452573221997, 0.28108323289556464, 0.16707744612673425, 0.9994377528430564, 0.9982582277936187, 0.00118981910344889, 0.9993034694130825, 0.29086820306059336, 0.7087686417435684, 0.0005936085776746804, 0.9995476444076214, 0.9992760973058399, 0.9986587170417506, 0.3468342021362924, 0.014877606525953562, 0.6378773798002589, 0.9988398514088684, 0.9831464902383217, 0.015927262728455873, 0.0011247458019836818, 0.0005623729009918409, 0.9982118992605177, 0.9989508394372677, 0.9996162495757946, 0.9992355257649913, 0.9994021600127444, 0.0008645392036274083, 0.9985427801896566, 0.999609495694663, 0.9990589512762914, 0.9993459110559942, 0.9995617773262352, 0.9995074302875968, 0.9990175325047816, 0.9993916064509238, 0.9992760263957864, 0.999620737756908, 0.9996300451383875, 0.9996539179802627, 0.9998711377852569, 0.9995296716639311, 0.9992075486993514, 0.9990953169156873, 0.2800443069247116, 0.719724765462148, 0.2348901956021933, 0.7645576055153543, 0.011080621352888835, 0.9887943563632438, 0.00020146584277979702, 0.9986727815729197, 0.9996977581605906, 0.9996054081611492, 0.9990031847039827, 0.9992718391208422, 0.0010629200434192313, 0.9991448408140774, 0.0010629200434192313, 0.9997632821121469, 0.999824450752032, 0.999006296091699], \"Term\": [\"\\u0431\\u0430\\u0431\\u0443\\u0448\\u043a\\u0430\", \"\\u0431\\u0438\\u043b\\u0435\\u0442\", \"\\u0431\\u043e\\u0433\", \"\\u0431\\u043e\\u043b\\u044c\", \"\\u0431\\u043e\\u043b\\u044c\\u043d\\u0438\\u0446\\u0430\", \"\\u0431\\u043e\\u043b\\u044c\\u0448\", \"\\u0431\\u043e\\u043b\\u044c\\u0448\", \"\\u0431\\u043e\\u044f\\u0442\\u044c\\u0441\\u044f\", \"\\u0431\\u043e\\u044f\\u0442\\u044c\\u0441\\u044f\", \"\\u0431\\u0440\\u0430\\u0442\", \"\\u0431\\u044b\\u0441\\u0442\\u0440\\u043e\", \"\\u0431\\u044b\\u0441\\u0442\\u0440\\u043e\", \"\\u0432\\u0438\\u0434\\u0438\\u043c\\u043e\", \"\\u0432\\u043e\\u043f\\u0440\\u043e\\u0441\", \"\\u0432\\u0440\\u043e\\u0434\\u0435\", \"\\u0432\\u0440\\u043e\\u0434\\u0435\", \"\\u0432\\u0447\\u0435\\u0440\\u0430\", \"\\u0432\\u0447\\u0435\\u0440\\u0430\", \"\\u0432\\u0447\\u0435\\u0440\\u0430\", \"\\u0432\\u044b\\u0439\\u0442\\u0438\", \"\\u0432\\u044b\\u0441\\u043f\\u0430\\u0442\\u044c\\u0441\\u044f\", \"\\u0432\\u044b\\u0445\\u043e\\u0434\\u043d\", \"\\u0433\\u043b\\u0430\\u0437\", \"\\u0433\\u043b\\u0430\\u0437\", \"\\u0433\\u043e\\u043b\\u043e\\u0432\\u0430\", \"\\u0433\\u043e\\u043b\\u043e\\u0432\\u0430\", \"\\u0433\\u043e\\u0440\\u043e\\u0434\", \"\\u0433\\u043e\\u0440\\u043e\\u0434\", \"\\u0433\\u043e\\u0440\\u043e\\u0434\", \"\\u0433\\u043e\\u0441\\u043f\\u043e\\u0434\\u044c\", \"\\u0434\\u0435\\u0432\\u0443\\u0448\\u043a\\u0430\", \"\\u0434\\u0435\\u0432\\u0443\\u0448\\u043a\\u0430\", \"\\u0434\\u0435\\u043b\\u043e\", \"\\u0434\\u0435\\u043b\\u043e\", \"\\u0434\\u0435\\u043d\\u044c\\u0433\\u0430\", \"\\u0434\\u0435\\u043d\\u044c\\u0433\\u0430\", \"\\u0434\\u0435\\u043d\\u044c\\u0433\\u0430\", \"\\u0434\\u043e\\u0431\\u0440\\u044b\\u0439\", \"\\u0434\\u043e\\u0436\\u0434\\u044c\", \"\\u0434\\u043e\\u043b\\u0436\\u043d\\u044b\\u0439\", \"\\u0434\\u043e\\u043b\\u0436\\u043d\\u044b\\u0439\", \"\\u0434\\u043e\\u043c\", \"\\u0434\\u043e\\u043c\", \"\\u0434\\u043e\\u043c\", \"\\u0434\\u043e\\u0440\\u043e\\u0433\\u0430\", \"\\u0434\\u0440\\u0443\\u0433\", \"\\u0434\\u0440\\u0443\\u0433\", \"\\u0434\\u0440\\u0443\\u0433\", \"\\u0436\\u0430\\u043b\\u043a\\u043e\", \"\\u0436\\u0430\\u043b\\u044c\", \"\\u0436\\u0430\\u043b\\u044c\", \"\\u0437\\u0430\\u0432\\u0442\\u0440\\u0430\", \"\\u0437\\u0430\\u0432\\u0442\\u0440\\u0430\", \"\\u0437\\u0430\\u0432\\u0442\\u0440\\u0430\", \"\\u0437\\u0430\\u043a\\u043e\\u043d\\u0447\\u0438\\u0442\\u044c\\u0441\\u044f\", \"\\u0437\\u0430\\u043a\\u043e\\u043d\\u0447\\u0438\\u0442\\u044c\\u0441\\u044f\", \"\\u0437\\u0438\\u043c\\u0430\", \"\\u0438\\u0434\\u0442\\u0438\", \"\\u0438\\u0434\\u0442\\u0438\", \"\\u043a\\u0430\\u0437\\u0430\\u0442\\u044c\\u0441\\u044f\", \"\\u043a\\u0430\\u043d\\u0438\\u043a\\u0443\\u043b\\u044b\", \"\\u043a\\u0430\\u0442\\u043e\\u043a\", \"\\u043a\\u043b\\u0430\\u0441\\u0441\", \"\\u043a\\u043b\\u0430\\u0441\\u0441\", \"\\u043a\\u043d\\u0438\\u0433\\u0430\", \"\\u043a\\u043e\\u043d\\u0435\\u0446\", \"\\u043a\\u0440\\u0443\\u0442\\u043e\", \"\\u043b\\u0430\\u0434\\u043d\\u044b\\u0439\", \"\\u043b\\u0435\\u043d\\u0442\\u0430\", \"\\u043b\\u0435\\u043d\\u0442\\u0430\", \"\\u043b\\u0435\\u043d\\u0442\\u0430\", \"\\u043b\\u0435\\u043d\\u044c\", \"\\u043b\\u0435\\u0442\\u043e\", \"\\u043b\\u0435\\u0442\\u043e\", \"\\u043b\\u0435\\u0447\\u044c\", \"\\u043b\\u044e\\u0431\\u0438\\u043c\\u044b\\u0439\", \"\\u043b\\u044e\\u0431\\u0438\\u043c\\u044b\\u0439\", \"\\u043b\\u044e\\u0431\\u0438\\u043c\\u044b\\u0439\", \"\\u043b\\u044e\\u0431\\u043e\\u0432\\u044c\", \"\\u043c\\u0430\\u0433\\u0430\\u0437\\u0438\\u043d\", \"\\u043c\\u0430\\u043b\\u0435\\u043d\\u044c\\u043a\\u0438\\u0439\", \"\\u043c\\u0430\\u043b\\u0435\\u043d\\u044c\\u043a\\u0438\\u0439\", \"\\u043c\\u0430\\u043b\\u0435\\u043d\\u044c\\u043a\\u0438\\u0439\", \"\\u043c\\u0430\\u043c\\u0430\", \"\\u043c\\u0430\\u043c\\u0430\", \"\\u043c\\u0430\\u043c\\u0430\", \"\\u043c\\u0430\\u0448\\u0438\\u043d\\u0430\", \"\\u043c\\u0435\\u0441\\u044f\\u0446\", \"\\u043c\\u0438\\u043d\\u0443\\u0442\\u0430\", \"\\u043c\\u0438\\u043d\\u0443\\u0442\\u0430\", \"\\u043c\\u0438\\u043d\\u0443\\u0442\\u0430\", \"\\u043c\\u043e\\u043c\\u0435\\u043d\\u0442\", \"\\u043c\\u043e\\u043c\\u0435\\u043d\\u0442\", \"\\u043c\\u043e\\u0440\\u043e\\u0437\", \"\\u043c\\u043e\\u0441\\u043a\\u0432\\u0430\", \"\\u043c\\u044b\\u0441\\u043b\\u044c\", \"\\u043c\\u044b\\u0441\\u043b\\u044c\", \"\\u043d\\u0430\\u0439\\u0442\\u0438\", \"\\u043d\\u0430\\u0439\\u0442\\u0438\", \"\\u043d\\u0430\\u0439\\u0442\\u0438\", \"\\u043d\\u0430\\u0441\\u0442\\u0440\\u043e\\u0435\\u043d\\u0438\\u0435\", \"\\u043d\\u0430\\u0441\\u0442\\u0440\\u043e\\u0435\\u043d\\u0438\\u0435\", \"\\u043d\\u0430\\u0441\\u0442\\u0440\\u043e\\u0435\\u043d\\u0438\\u0435\", \"\\u043d\\u0430\\u0445\\u0443\\u0439\", \"\\u043d\\u0430\\u0447\\u0430\\u0442\\u044c\\u0441\\u044f\", \"\\u043d\\u0435\\u0434\\u0435\\u043b\\u044f\", \"\\u043d\\u0435\\u0447\\u0435\\u0433\\u043e\", \"\\u043d\\u0438\\u043a\\u0442\\u043e\", \"\\u043d\\u0438\\u043a\\u0442\\u043e\", \"\\u043d\\u043e\\u0432\\u044b\\u0439\", \"\\u043d\\u043e\\u0432\\u044b\\u0439\", \"\\u043d\\u043e\\u0433\\u0430\", \"\\u043d\\u043e\\u0433\\u0430\", \"\\u043d\\u043e\\u0433\\u0430\", \"\\u043d\\u043e\\u0440\\u043c\\u0430\", \"\\u043d\\u043e\\u0447\\u044c\", \"\\u043d\\u043e\\u0447\\u044c\", \"\\u043d\\u0440\\u0430\\u0432\\u0438\\u0442\\u044c\\u0441\\u044f\", \"\\u043d\\u0440\\u0430\\u0432\\u0438\\u0442\\u044c\\u0441\\u044f\", \"\\u043d\\u0443\\u0436\\u043d\\u044b\\u0439\", \"\\u043d\\u0443\\u0436\\u043d\\u044b\\u0439\", \"\\u043d\\u0443\\u0436\\u043d\\u044b\\u0439\", \"\\u043e\\u0441\\u0442\\u0430\\u0442\\u044c\\u0441\\u044f\", \"\\u043e\\u0441\\u0442\\u0430\\u0442\\u044c\\u0441\\u044f\", \"\\u043f\\u0430\\u043f\\u0430\", \"\\u043f\\u0430\\u0440\\u0430\", \"\\u043f\\u0430\\u0440\\u0430\", \"\\u043f\\u0430\\u0440\\u0435\\u043d\\u044c\", \"\\u043f\\u0430\\u0440\\u0435\\u043d\\u044c\", \"\\u043f\\u0435\\u0441\\u043d\\u044f\", \"\\u043f\\u0435\\u0441\\u043d\\u044f\", \"\\u043f\\u0435\\u0447\\u0430\\u043b\\u044c\", \"\\u043f\\u043b\\u0430\\u0447\", \"\\u043f\\u043e\\u0433\\u043e\\u0434\\u0430\", \"\\u043f\\u043e\\u0433\\u043e\\u0434\\u0430\", \"\\u043f\\u043e\\u043b\\u043d\\u044b\\u0439\", \"\\u043f\\u043e\\u043b\\u0443\\u0447\\u0430\\u0442\\u044c\\u0441\\u044f\", \"\\u043f\\u043e\\u043b\\u0443\\u0447\\u0438\\u0442\\u044c\\u0441\\u044f\", \"\\u043f\\u043e\\u0441\\u043b\\u0435\\u0434\\u043d\\u0438\\u0439\", \"\\u043f\\u043e\\u0441\\u043b\\u0435\\u0434\\u043d\\u0438\\u0439\", \"\\u043f\\u043e\\u0441\\u043b\\u0435\\u0434\\u043d\\u0438\\u0439\", \"\\u043f\\u043e\\u0445\\u043e\\u0434\", \"\\u043f\\u043e\\u0445\\u043e\\u0434\", \"\\u043f\\u0440\\u0430\\u0432\\u0434\\u0430\", \"\\u043f\\u0440\\u0430\\u0432\\u0434\\u0430\", \"\\u043f\\u0440\\u0430\\u0437\\u0434\\u043d\\u0438\\u043a\", \"\\u043f\\u0440\\u0438\\u0439\\u0442\\u0438\", \"\\u043f\\u0440\\u0438\\u0439\\u0442\\u0438\", \"\\u043f\\u0440\\u0438\\u0439\\u0442\\u0438\", \"\\u043f\\u0440\\u0438\\u0439\\u0442\\u0438\\u0441\\u044c\", \"\\u043f\\u0440\\u043e\\u0431\\u043b\\u0435\\u043c\\u0430\", \"\\u043f\\u0440\\u043e\\u0431\\u043b\\u0435\\u043c\\u0430\", \"\\u043f\\u0440\\u043e\\u0431\\u043b\\u0435\\u043c\\u0430\", \"\\u043f\\u0440\\u043e\\u0441\\u043d\\u0443\\u0442\\u044c\\u0441\\u044f\", \"\\u043f\\u0440\\u043e\\u0441\\u043d\\u0443\\u0442\\u044c\\u0441\\u044f\", \"\\u043f\\u0440\\u044f\\u043c\", \"\\u043f\\u044b\\u0442\\u0430\\u0442\\u044c\\u0441\\u044f\", \"\\u0440\\u0430\\u0431\\u043e\\u0442\\u0430\", \"\\u0440\\u0430\\u0431\\u043e\\u0442\\u0430\", \"\\u0440\\u0430\\u0431\\u043e\\u0442\\u0430\", \"\\u0440\\u0430\\u043d\\u043d\\u0438\\u0439\", \"\\u0440\\u0435\\u0431\\u044f\\u0442\\u0430\", \"\\u0440\\u0435\\u0431\\u044f\\u0442\\u0430\", \"\\u0440\\u043e\\u0434\\u043d\\u044b\\u0439\", \"\\u0441\\u0430\\u043c\\u044b\\u0439\", \"\\u0441\\u0430\\u043c\\u044b\\u0439\", \"\\u0441\\u0430\\u043c\\u044b\\u0439\", \"\\u0441\\u0435\\u0437\\u043e\\u043d\", \"\\u0441\\u0435\\u0440\\u0434\\u0446\\u0435\", \"\\u0441\\u0435\\u0441\\u0441\\u0438\\u044f\", \"\\u0441\\u043a\\u043e\\u0440\\u043e\", \"\\u0441\\u043a\\u043e\\u0440\\u043e\", \"\\u0441\\u043a\\u043e\\u0440\\u043e\", \"\\u0441\\u043b\\u0435\\u0437\\u0430\", \"\\u0441\\u043b\\u043e\\u0432\\u043e\", \"\\u0441\\u043b\\u043e\\u0432\\u043e\", \"\\u0441\\u043d\\u0435\\u0433\", \"\\u0441\\u043d\\u0435\\u0433\", \"\\u0441\\u043d\\u0435\\u0433\", \"\\u0441\\u043e\\u0431\\u0438\\u0440\\u0430\\u0442\\u044c\\u0441\\u044f\", \"\\u0441\\u043e\\u0441\\u043a\\u0443\\u0447\\u0438\\u0442\\u044c\\u0441\\u044f\", \"\\u0441\\u0440\\u0430\\u0437\\u0443\", \"\\u0441\\u0442\\u0430\\u0440\\u044b\\u0439\", \"\\u0442\\u0430\\u043a\\u0438\", \"\\u0442\\u0430\\u043a\\u0438\", \"\\u0442\\u0432\\u0438\\u0442\", \"\\u0442\\u0432\\u0438\\u0442\\u0442\\u0435\\u0440\", \"\\u0442\\u0435\\u043b\\u0435\\u0444\\u043e\\u043d\", \"\\u0442\\u0435\\u043c\\u043f\\u0435\\u0440\\u0430\\u0442\\u0443\\u0440\\u0430\", \"\\u0442\\u0443\\u043f\", \"\\u0442\\u044f\\u0436\\u0435\\u043b\\u043e\", \"\\u0443\\u0436\\u0430\\u0441\", \"\\u0443\\u0436\\u0430\\u0441\\u043d\\u044b\\u0439\", \"\\u0443\\u0439\\u0442\\u0438\", \"\\u0443\\u043b\\u0438\\u0446\\u0430\", \"\\u0443\\u0440\\u043e\\u043a\", \"\\u0443\\u0442\\u0440\\u043e\", \"\\u0443\\u0447\\u0438\\u0442\\u044c\\u0441\\u044f\", \"\\u0443\\u0447\\u0451\\u0431\\u0430\", \"\\u0444\\u0438\\u0437\\u0438\\u043a\\u0430\", \"\\u0444\\u0438\\u043b\\u044c\\u043c\", \"\\u0444\\u0438\\u043b\\u044c\\u043c\", \"\\u0444\\u043e\\u0442\\u043a\\u0430\", \"\\u0444\\u043e\\u0442\\u043a\\u0430\", \"\\u0445\\u043e\\u0440\\u043e\\u0448\\u0438\\u0439\", \"\\u0445\\u043e\\u0440\\u043e\\u0448\\u0438\\u0439\", \"\\u0445\\u043e\\u0440\\u043e\\u0448\\u0438\\u0439\", \"\\u0446\\u0435\\u043b\\u044b\\u0439\", \"\\u0447\\u0430\\u0441\", \"\\u0447\\u0435\\u0440\\u0442\\u0430\", \"\\u0447\\u0443\\u0432\\u0441\\u0442\\u0432\\u043e\", \"\\u0447\\u0451\\u0440\\u043d\\u044b\\u0439\", \"\\u0448\\u0435\\u0440\\u043b\\u043e\\u043a\", \"\\u0448\\u0435\\u0440\\u043b\\u043e\\u043a\", \"\\u0448\\u0435\\u0440\\u043b\\u043e\\u043a\", \"\\u0448\\u043a\\u043e\\u043b\\u0430\", \"\\u044d\\u043a\\u0437\\u0430\\u043c\\u0435\\u043d\", \"\\u044f\\u043d\\u0432\\u0430\\u0440\\u044c\"]}, \"R\": 30, \"lambda.step\": 0.01, \"plot.opts\": {\"xlab\": \"PC1\", \"ylab\": \"PC2\"}, \"topic.order\": [3, 2, 1]};\n",
       "\n",
       "function LDAvis_load_lib(url, callback){\n",
       "  var s = document.createElement('script');\n",
       "  s.src = url;\n",
       "  s.async = true;\n",
       "  s.onreadystatechange = s.onload = callback;\n",
       "  s.onerror = function(){console.warn(\"failed to load library \" + url);};\n",
       "  document.getElementsByTagName(\"head\")[0].appendChild(s);\n",
       "}\n",
       "\n",
       "if(typeof(LDAvis) !== \"undefined\"){\n",
       "   // already loaded: just create the visualization\n",
       "   !function(LDAvis){\n",
       "       new LDAvis(\"#\" + \"ldavis_el30151407194528589604353010098\", ldavis_el30151407194528589604353010098_data);\n",
       "   }(LDAvis);\n",
       "}else if(typeof define === \"function\" && define.amd){\n",
       "   // require.js is available: use it to load d3/LDAvis\n",
       "   require.config({paths: {d3: \"https://d3js.org/d3.v5\"}});\n",
       "   require([\"d3\"], function(d3){\n",
       "      window.d3 = d3;\n",
       "      LDAvis_load_lib(\"https://cdn.jsdelivr.net/gh/bmabey/pyLDAvis@3.3.1/pyLDAvis/js/ldavis.v3.0.0.js\", function(){\n",
       "        new LDAvis(\"#\" + \"ldavis_el30151407194528589604353010098\", ldavis_el30151407194528589604353010098_data);\n",
       "      });\n",
       "    });\n",
       "}else{\n",
       "    // require.js not available: dynamically load d3 & LDAvis\n",
       "    LDAvis_load_lib(\"https://d3js.org/d3.v5.js\", function(){\n",
       "         LDAvis_load_lib(\"https://cdn.jsdelivr.net/gh/bmabey/pyLDAvis@3.3.1/pyLDAvis/js/ldavis.v3.0.0.js\", function(){\n",
       "                 new LDAvis(\"#\" + \"ldavis_el30151407194528589604353010098\", ldavis_el30151407194528589604353010098_data);\n",
       "            })\n",
       "         });\n",
       "}\n",
       "</script>"
      ],
      "text/plain": [
       "<IPython.core.display.HTML object>"
      ]
     },
     "execution_count": 25,
     "metadata": {},
     "output_type": "execute_result"
    }
   ],
   "source": [
    "pyLDAvis.display(v_data)"
   ]
  },
  {
   "cell_type": "markdown",
   "id": "925d6a83",
   "metadata": {
    "id": "925d6a83"
   },
   "source": [
    "# Результаты:"
   ]
  },
  {
   "cell_type": "markdown",
   "id": "f6f7a208",
   "metadata": {
    "id": "f6f7a208"
   },
   "source": [
    "У нас получились три частые темы:\n",
    "\n",
    "1) Часть жизни, проходящая в работе или учебе. Т.е. трудовые будни.\n",
    "\n",
    "2) Тема взаимоотношений между людьми.\n",
    "\n",
    "3) Часть жизни не связанная с работой. Отдых и развлечения."
   ]
  }
 ],
 "metadata": {
  "colab": {
   "provenance": []
  },
  "kernelspec": {
   "display_name": "Python 3 (ipykernel)",
   "language": "python",
   "name": "python3"
  },
  "language_info": {
   "codemirror_mode": {
    "name": "ipython",
    "version": 3
   },
   "file_extension": ".py",
   "mimetype": "text/x-python",
   "name": "python",
   "nbconvert_exporter": "python",
   "pygments_lexer": "ipython3",
   "version": "3.9.7"
  }
 },
 "nbformat": 4,
 "nbformat_minor": 5
}
