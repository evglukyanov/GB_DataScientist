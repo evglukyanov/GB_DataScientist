{
 "cells": [
  {
   "cell_type": "markdown",
   "metadata": {
    "id": "2qyIro0BslCl"
   },
   "source": [
    "### **БИБЛИОТЕКИ**"
   ]
  },
  {
   "cell_type": "code",
   "execution_count": 1,
   "metadata": {
    "colab": {
     "base_uri": "https://localhost:8080/"
    },
    "id": "P_LrpcDdJHke",
    "outputId": "b4f2907a-a908-4dd7-db79-bf4801c81b9b"
   },
   "outputs": [
    {
     "name": "stderr",
     "output_type": "stream",
     "text": [
      "[nltk_data] Downloading package stopwords to /root/nltk_data...\n",
      "[nltk_data]   Package stopwords is already up-to-date!\n"
     ]
    }
   ],
   "source": [
    "# загрузим библиотеки\n",
    "\n",
    "# !pip install python-telegram-bot==13.8 --quiet\n",
    "# !pip install python-telegram-bot --upgrade --quiet\n",
    "# !pip install pymorphy2[fast] annoy stop_words transformers sentencepiece sentence_transformers faiss --quiet\n",
    "# !apt install libomp-dev\n",
    "\n",
    "from telegram import Update\n",
    "from telegram.ext import Updater, CommandHandler, MessageHandler, Filters, CallbackContext\n",
    "import requests\n",
    "from bs4 import BeautifulSoup as bs\n",
    "import pandas as pd\n",
    "import numpy as np\n",
    "import re\n",
    "import string\n",
    "import nltk\n",
    "nltk.download('stopwords')\n",
    "from pymorphy2 import MorphAnalyzer\n",
    "from stop_words import get_stop_words\n",
    "import torch\n",
    "import torch.nn as nn\n",
    "import faiss\n",
    "# !cat '/content/drive/MyDrive/Colab Notebooks/NLP/CHAT_BOT/tokenization_small100.py'\n",
    "import sys\n",
    "sys.path.append('/content/drive/MyDrive/Colab Notebooks/NLP/CHAT_BOT')\n",
    "import tokenization_small100\n",
    "from tokenization_small100 import SMALL100Tokenizer\n",
    "from sentence_transformers import SentenceTransformer\n",
    "from transformers import AutoTokenizer, TFAutoModel, AutoModelForCausalLM, AutoModel, M2M100ForConditionalGeneration, MarianTokenizer, MarianMTModel, AutoModelForSequenceClassification\n",
    "from datetime import datetime\n",
    "import json"
   ]
  },
  {
   "cell_type": "markdown",
   "metadata": {
    "id": "7_O4r24ssxAS"
   },
   "source": [
    "### **ДАННЫЕ, МОДЕЛИ, ПАРАМЕТРЫ**"
   ]
  },
  {
   "cell_type": "code",
   "execution_count": 2,
   "metadata": {
    "id": "J9HXxhsItTCb"
   },
   "outputs": [],
   "source": [
    "PATH_TOKEN = '/content/token.txt'\n",
    "PATH_DF_FILMS = '/content/drive/MyDrive/Colab Notebooks/NLP/CHAT_BOT/asian_dramas_dataset_FINAL.csv'\n",
    "PATH_EMB_FILMS = '/content/drive/MyDrive/Colab Notebooks/NLP/CHAT_BOT/df_films_emb.npy'\n",
    "PATH_BERT_CLASS = '/content/drive/MyDrive/Colab Notebooks/NLP/CHAT_BOT/model_bert_clean.pt'"
   ]
  },
  {
   "cell_type": "code",
   "execution_count": null,
   "metadata": {
    "id": "y-IcUaD4Tk9o"
   },
   "outputs": [],
   "source": [
    "# токен для Телеграма\n",
    "with open(PATH_TOKEN, 'r') as f:\n",
    "  TOKEN = f.read()\n",
    "\n",
    "# инструменты для обработки текста\n",
    "morpher = MorphAnalyzer()\n",
    "sw = set(get_stop_words('ru') + nltk.corpus.stopwords.words('russian'))\n",
    "exclude = set(string.punctuation)\n",
    "\n",
    "# логирование запросов пользователей на классификацию интентов\n",
    "history = {'text': [], 'label': []}\n",
    "history_for_gpt = []\n",
    "\n",
    "# данные с фильмами\n",
    "df_films = pd.read_csv(PATH_DF_FILMS).drop('Unnamed: 0', axis=1)\n",
    "embeddings_for_films = np.load(PATH_EMB_FILMS)\n",
    "\n",
    "# тренированная BERT-модель для классификации интентов\n",
    "model_name_for_classification = 'sberbank-ai/ruBert-large'\n",
    "tokenizer_for_classification = AutoTokenizer.from_pretrained(model_name_for_classification)\n",
    "model_for_classification = AutoModelForSequenceClassification.from_pretrained(model_name_for_classification, num_labels=3)\n",
    "device_cpu = torch.device('cpu')\n",
    "model_for_classification.load_state_dict(torch.load(PATH_BERT_CLASS, map_location=device_cpu))\n",
    "\n",
    "# GPT-модель для поддержания разговора с пользователем (интент-1)\n",
    "model_name_for_textgeneration = 'sberbank-ai/rugpt3small_based_on_gpt2'\n",
    "tokenizer_for_textgeneration = AutoTokenizer.from_pretrained(model_name_for_textgeneration)\n",
    "model_for_textgeneration = AutoModelForCausalLM.from_pretrained(model_name_for_textgeneration)\n",
    "\n",
    "# модель для создания эмббедингов на запросы поиска фильмов (интент-2)\n",
    "encoder_for_films = SentenceTransformer('sberbank-ai/ruBert-base')\n",
    "\n",
    "# модель для анализа сантимента комментариев фильмов\n",
    "model_name_for_santiment = 'Tatyana/rubert-base-cased-sentiment-new'\n",
    "tokenizer_for_santiment = AutoTokenizer.from_pretrained(model_name_for_santiment)\n",
    "model_for_santiment = AutoModelForSequenceClassification.from_pretrained(model_name_for_santiment)\n",
    "\n",
    "# модель перевода на корейский язык (интент-3)\n",
    "model_name_for_translation = 'alirezamsh/small100'\n",
    "model_for_translation = M2M100ForConditionalGeneration.from_pretrained(model_name_for_translation)\n",
    "tokenizer_for_translation = SMALL100Tokenizer.from_pretrained(model_name_for_translation)\n",
    "tokenizer_for_translation.tgt_lang = 'ko'"
   ]
  },
  {
   "cell_type": "markdown",
   "metadata": {
    "id": "h_OHRNE1zpRY"
   },
   "source": [
    "### **МЕТОДЫ, ФУНКЦИИ**"
   ]
  },
  {
   "cell_type": "code",
   "execution_count": 22,
   "metadata": {
    "id": "KwSddwhBJbFn"
   },
   "outputs": [],
   "source": [
    "# обработка текста\n",
    "def preprocess_txt(line):\n",
    "    spls = ''.join(i for i in line.strip() if i not in exclude).split()\n",
    "    spls = [morpher.parse(i.lower())[0].normal_form for i in spls]\n",
    "    spls = [i for i in spls if i not in sw and i != '']\n",
    "    return ' '.join(spls)\n",
    "\n",
    "\n",
    "# классификатор интентов\n",
    "def classifier_intents(text):\n",
    "  inputs = tokenizer_for_classification(text, return_tensors='pt')\n",
    "  outputs = model_for_classification(**inputs)\n",
    "  prediction_logits = outputs.logits\n",
    "  prediction = np.argmax(prediction_logits.detach().numpy())\n",
    "  return prediction, prediction_logits\n",
    "\n",
    "\n",
    "# обработка команды '/start'\n",
    "def start(update: Update, context: CallbackContext):\n",
    "    update.message.reply_text(\n",
    "        'Привет! \\\n",
    "        \\nЯ *AsiaLove бот*. Я умею болтать, рекомендовать сериалы и переводить \\\n",
    "        слова и фразы на корейский язык 😊 \\\n",
    "        \\nЕсли я что-то не понял, не злись, попробуй переформулировать \\\n",
    "        предложение ^-^.  Погнали!\\n⁉️ Кстати, чтобы я смог сделать перевод \\\n",
    "        корректно, поставь слово/фразу в знаки \\\n",
    "        равно --> Переведи мне слово =Апельсин=.', parse_mode='Markdown')\n",
    "\n",
    "\n",
    "# генератор текста (интент-1)\n",
    "def respond_to_dialog(texts):\n",
    "    prefix = '\\nВопрос:'\n",
    "    for i, t in enumerate(texts):\n",
    "        prefix += t\n",
    "        prefix += '\\nВопрос:' if i % 2 == 1 else '\\nОтвет:'\n",
    "    tokens = tokenizer_for_textgeneration(prefix, return_tensors='pt')\n",
    "    tokens = {k: v for k, v in tokens.items()}\n",
    "    end_token_id = tokenizer_for_textgeneration.encode('\\n')[0]\n",
    "    size = tokens['input_ids'].shape[1]\n",
    "    output = model_for_textgeneration.generate(\n",
    "        **tokens, \n",
    "        eos_token_id=end_token_id,\n",
    "        do_sample=True, \n",
    "        max_new_tokens=size+40, \n",
    "        repetition_penalty=3.2, \n",
    "        temperature=0.5,\n",
    "        num_beams=5,\n",
    "        length_penalty=0.05,\n",
    "        pad_token_id=tokenizer_for_textgeneration.eos_token_id,\n",
    "        min_length=10)\n",
    "    decoded = tokenizer_for_textgeneration.decode(output[0])\n",
    "    result = decoded[len(prefix):]\n",
    "    return result.strip()\n",
    "\n",
    "\n",
    "# рекомендации фильмов (интент-2)\n",
    "def get_films_recom(user_text):\n",
    "  dimension = embeddings_for_films.shape[1]\n",
    "  k_nears = 10\n",
    "  text = encoder_for_films.encode(user_text).reshape(1, -1)\n",
    "  index = faiss.IndexFlatL2(dimension)\n",
    "  index.add(embeddings_for_films)\n",
    "  D, I = index.search(text, k_nears)\n",
    "  dict_temp = {I[0][i]:D[0][i] for i in range(len(D[0]))}\n",
    "  dict_temp = dict(sorted(dict_temp.items(), key=lambda item: item[1], reverse=True))\n",
    "  return list(dict_temp.keys())\n",
    "\n",
    "\n",
    "# парсинг рейтинга фильма/сериала с оригинального сайта\n",
    "def get_film_rating(url):\n",
    "  try:\n",
    "    request = requests.get(url)\n",
    "    rating = bs(request.text, 'html.parser').find_all('div', class_='unit-rating')\n",
    "    return rating[0].span.text\n",
    "  except:\n",
    "    return '-'\n",
    "\n",
    "\n",
    "# предсказание метки сантимента для комментариев фильмов\n",
    "def predict(text):\n",
    "    inputs = tokenizer_for_santiment(text, max_length=512, padding=True, truncation=True, return_tensors='pt')\n",
    "    with torch.no_grad():\n",
    "      outputs = model_for_santiment(**inputs)\n",
    "    predicted = torch.nn.functional.softmax(outputs.logits, dim=1)\n",
    "    predicted = torch.argmax(predicted, dim=1).numpy()[0]\n",
    "    return predicted\n",
    "\n",
    "\n",
    "# подсчет комментариев по сантименту\n",
    "def count_comments_santiment(url):\n",
    "\n",
    "  list_comments = []\n",
    "  neutral = 0\n",
    "  positive = 0\n",
    "  negative = 0\n",
    "\n",
    "  try:\n",
    "    request = requests.get(url)\n",
    "    comments = bs(request.text, 'html.parser').find_all('div', class_='ct-text clearfix')    \n",
    "    for item in comments:\n",
    "      list_comments.append(item.text.strip())\n",
    "    for cmnt in list_comments:\n",
    "      santiment_label = predict(cmnt)\n",
    "      if santiment_label == 0:\n",
    "        neutral += 1\n",
    "      elif santiment_label == 1:\n",
    "        positive += 1\n",
    "      elif santiment_label == 2:\n",
    "        negative += 1\n",
    "    return '*Нейтральные*: ' + str(neutral) + '\\n*Положительные*: '+ str(positive) + '\\n*Негативные*: ' + str(negative)\n",
    "  except:\n",
    "    return '*Нейтральные* -' + '\\n*Положительные*: -'+ '\\n*Негативные*: -'\n",
    "\n",
    "\n",
    "# перевод на корейский язык (интент-3)\n",
    "def translate_to_korean(text):\n",
    "  text_to_translate = re.findall(r'=(.*?)=', text)  \n",
    "  tokens = tokenizer_for_translation(text_to_translate, return_tensors='pt')\n",
    "  outputs = model_for_translation.generate(**tokens)\n",
    "  translation = tokenizer_for_translation.batch_decode(outputs, skip_special_tokens=True)\n",
    "  return translation[0]\n",
    "\n",
    "\n",
    "# обработка текстовых сообщений от пользователя с тремя интентами\n",
    "def bot_answers(update: Update, context: CallbackContext):   \n",
    "    user_text = update.message.text \n",
    "    user_text_clean = preprocess_txt(user_text)    \n",
    "    label_pred, stats = classifier_intents(user_text_clean)    \n",
    "\n",
    "    # режим разговора      \n",
    "    if label_pred == 0:\n",
    "      # update.message.reply_text('Talk')\n",
    "      history_for_gpt.append(user_text)\n",
    "      result = respond_to_dialog(history_for_gpt)\n",
    "      history_for_gpt.append(result)   \n",
    "      update.message.reply_text(result)\n",
    "\n",
    "      # логирование\n",
    "      if len(history_for_gpt) > 1000:\n",
    "        with open('/content/drive/MyDrive/Colab Notebooks/NLP/CHAT_BOT/history_for_gpt_'+datetime.now().strftime(\"%d%m%Y_%H%M\")+'.txt', 'w') as f:\n",
    "          f.write(('\\n').join(history_for_gpt))    \n",
    "\n",
    "    # режим рекомендаций фильмов\n",
    "    elif label_pred == 1:\n",
    "      # update.message.reply_text('Recommendation')\n",
    "      ids_recom = get_films_recom(user_text_clean)   \n",
    "      for idx in ids_recom[:3]:\n",
    "        # try:\n",
    "        #   update.message.reply_photo(df_films.img_link.iloc[idx])\n",
    "        # except:\n",
    "        #   update.message.reply_text('Упс... Картинку не грузится.\\n')\n",
    "        update.message.reply_text('\\n'.join(['*Название*: '+ df_films.ru_name.iloc[idx], \n",
    "                                            '*Оригинальное название*: '+ df_films.orig_name.iloc[idx],\n",
    "                                            '*Количество серий*: '+ df_films.number_ep.iloc[idx],\n",
    "                                            '*Жанр*: '+ df_films.genre.iloc[idx],                             \n",
    "                                            '*Страна*: '+ df_films.country.iloc[idx], \n",
    "                                            '*Год*: '+ df_films.year.iloc[idx], \n",
    "                                            '*Рейтинг*: '+ get_film_rating(df_films.page_link.iloc[idx]),\n",
    "                                            '*Ссылка*: '+ df_films.page_link.iloc[idx]]), parse_mode='Markdown')\n",
    "        update.message.reply_text('Читаю комментарии...\\n')\n",
    "        update.message.reply_text(count_comments_santiment(df_films.page_link.iloc[idx]), parse_mode='Markdown')\n",
    "    \n",
    "    \n",
    "    # режим перевода на корейский язык\n",
    "    elif label_pred == 2:\n",
    "      # update.message.reply_text('Translation')\n",
    "      update.message.reply_text(translate_to_korean(user_text))    \n",
    "\n",
    "    # логирование\n",
    "    history['text'].append(user_text)\n",
    "    history['label'].append(label_pred)\n",
    "    if len(history['label']) > 1000:      \n",
    "      with open('/content/drive/MyDrive/Colab Notebooks/NLP/CHAT_BOT/history_'+datetime.now().strftime(\"%d%m%Y_%H%M\")+'.txt', 'w') as f:\n",
    "        f.write(json.dumps(history, default=str))  "
   ]
  },
  {
   "cell_type": "markdown",
   "metadata": {
    "id": "FSGY_WM-znVB"
   },
   "source": [
    "### **ЗАПУСК БОТА**"
   ]
  },
  {
   "cell_type": "code",
   "execution_count": 23,
   "metadata": {
    "id": "FnTDXmiBKhBV"
   },
   "outputs": [],
   "source": [
    "updater = Updater(TOKEN, use_context=True)\n",
    "dispatcher = updater.dispatcher\n",
    "\n",
    "# обработчик команды '/start'\n",
    "dispatcher.add_handler(CommandHandler('start', start))\n",
    "\n",
    "# обработчик запросов пользователя\n",
    "dispatcher.add_handler(MessageHandler(Filters.text & ~Filters.command, bot_answers))"
   ]
  },
  {
   "cell_type": "code",
   "execution_count": 24,
   "metadata": {
    "id": "uMJb8JK2KhEN"
   },
   "outputs": [],
   "source": [
    "# запуск прослушивания сообщений\n",
    "updater.start_polling()\n",
    "updater.idle()"
   ]
  },
  {
   "cell_type": "code",
   "execution_count": null,
   "metadata": {
    "id": "qiNA--XWJbKx"
   },
   "outputs": [],
   "source": []
  }
 ],
 "metadata": {
  "colab": {
   "provenance": []
  },
  "kernelspec": {
   "display_name": "Python 3 (ipykernel)",
   "language": "python",
   "name": "python3"
  },
  "language_info": {
   "codemirror_mode": {
    "name": "ipython",
    "version": 3
   },
   "file_extension": ".py",
   "mimetype": "text/x-python",
   "name": "python",
   "nbconvert_exporter": "python",
   "pygments_lexer": "ipython3",
   "version": "3.9.7"
  }
 },
 "nbformat": 4,
 "nbformat_minor": 1
}
